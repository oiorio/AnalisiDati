{
 "cells": [
  {
   "cell_type": "markdown",
   "id": "f47a4151",
   "metadata": {},
   "source": [
    "# Se voglio ricostruire una coppia di elettroni di carica opposta come faccio?\n"
   ]
  },
  {
   "cell_type": "code",
   "execution_count": 1,
   "id": "520c06f3",
   "metadata": {
    "scrolled": false
   },
   "outputs": [
    {
     "name": "stdout",
     "output_type": "stream",
     "text": [
      "il File c'è già! Non sarà riscaricato.\n",
      "0\n",
      "0\n",
      "-rw-rw-r-- 1 orso orso 2,1M dic 12 01:04 DYJets.root\n",
      "-rw-r--r-- 1 orso orso  49M dic 15 02:53 Data.root\n",
      "Welcome to JupyROOT 6.24/02\n",
      "None\n",
      "None\n",
      "Collection name='THashList', class='THashList', size=1\n",
      " TKey Name = events, Title = events, Cycle = 1\n",
      "******************************************************************************\n",
      "*Tree    :events    : events                                                 *\n",
      "*Entries :    10000 : Total =         6071498 bytes  File  Size =    2146782 *\n",
      "*        :          : Tree compression factor =   2.82                       *\n",
      "******************************************************************************\n",
      "*Br    0 :muontracks_size : muontracks_size/I                                *\n",
      "*Entries :    10000 : Total  Size=      40693 bytes  File Size  =       6331 *\n",
      "*Baskets :        2 : Basket Size=      32000 bytes  Compression=   6.34     *\n",
      "*............................................................................*\n",
      "*Br    1 :muontracks_pt : vector<float>                                      *\n",
      "*Entries :    10000 : Total  Size=     175411 bytes  File Size  =      71181 *\n",
      "*Baskets :        7 : Basket Size=      32000 bytes  Compression=   2.46     *\n",
      "*............................................................................*\n",
      "*Br    2 :muontracks_eta : vector<float>                                     *\n",
      "*Entries :    10000 : Total  Size=     175422 bytes  File Size  =      72014 *\n",
      "*Baskets :        7 : Basket Size=      32000 bytes  Compression=   2.43     *\n",
      "*............................................................................*\n",
      "*Br    3 :muontracks_phi : vector<float>                                     *\n",
      "*Entries :    10000 : Total  Size=     175422 bytes  File Size  =      72249 *\n",
      "*Baskets :        7 : Basket Size=      32000 bytes  Compression=   2.42     *\n",
      "*............................................................................*\n",
      "*Br    4 :muontracks_e : vector<float>                                       *\n",
      "*Entries :    10000 : Total  Size=     175400 bytes  File Size  =      71293 *\n",
      "*Baskets :        7 : Basket Size=      32000 bytes  Compression=   2.45     *\n",
      "*............................................................................*\n",
      "*Br    5 :muontracks_charge : vector<float>                                  *\n",
      "*Entries :    10000 : Total  Size=     175455 bytes  File Size  =      38454 *\n",
      "*Baskets :        7 : Basket Size=      32000 bytes  Compression=   4.55     *\n",
      "*............................................................................*\n",
      "*Br    6 :muontracks_chi2 : vector<float>                                    *\n",
      "*Entries :    10000 : Total  Size=     175433 bytes  File Size  =      69474 *\n",
      "*Baskets :        7 : Basket Size=      32000 bytes  Compression=   2.52     *\n",
      "*............................................................................*\n",
      "*Br    7 :muontracks_mctruthmatch : vector<float>                            *\n",
      "*Entries :    10000 : Total  Size=     175521 bytes  File Size  =      38000 *\n",
      "*Baskets :        7 : Basket Size=      32000 bytes  Compression=   4.60     *\n",
      "*............................................................................*\n",
      "*Br    8 :muontracks_minDR : vector<float>                                   *\n",
      "*Entries :    10000 : Total  Size=     175444 bytes  File Size  =      63632 *\n",
      "*Baskets :        7 : Basket Size=      32000 bytes  Compression=   2.75     *\n",
      "*............................................................................*\n",
      "*Br    9 :muontracks_dB : vector<float>                                      *\n",
      "*Entries :    10000 : Total  Size=     175411 bytes  File Size  =      72224 *\n",
      "*Baskets :        7 : Basket Size=      32000 bytes  Compression=   2.42     *\n",
      "*............................................................................*\n",
      "*Br   10 :muontracks_dz : vector<float>                                      *\n",
      "*Entries :    10000 : Total  Size=     175411 bytes  File Size  =      72512 *\n",
      "*Baskets :        7 : Basket Size=      32000 bytes  Compression=   2.41     *\n",
      "*............................................................................*\n",
      "*Br   11 :muontracks_isoDeposits : vector<float>                             *\n",
      "*Entries :    10000 : Total  Size=     175510 bytes  File Size  =      59797 *\n",
      "*Baskets :        7 : Basket Size=      32000 bytes  Compression=   2.93     *\n",
      "*............................................................................*\n",
      "*Br   12 :electrons_size : electrons_size/I                                  *\n",
      "*Entries :    10000 : Total  Size=      40687 bytes  File Size  =       4991 *\n",
      "*Baskets :        2 : Basket Size=      32000 bytes  Compression=   8.05     *\n",
      "*............................................................................*\n",
      "*Br   13 :electrons_pt : vector<float>                                       *\n",
      "*Entries :    10000 : Total  Size=     160128 bytes  File Size  =      51710 *\n",
      "*Baskets :        7 : Basket Size=      32000 bytes  Compression=   3.09     *\n",
      "*............................................................................*\n",
      "*Br   14 :electrons_eta : vector<float>                                      *\n",
      "*Entries :    10000 : Total  Size=     160139 bytes  File Size  =      53000 *\n",
      "*Baskets :        7 : Basket Size=      32000 bytes  Compression=   3.01     *\n",
      "*............................................................................*\n",
      "*Br   15 :electrons_phi : vector<float>                                      *\n",
      "*Entries :    10000 : Total  Size=     160139 bytes  File Size  =      52951 *\n",
      "*Baskets :        7 : Basket Size=      32000 bytes  Compression=   3.01     *\n",
      "*............................................................................*\n",
      "*Br   16 :electrons_e : vector<float>                                        *\n",
      "*Entries :    10000 : Total  Size=     160117 bytes  File Size  =      51961 *\n",
      "*Baskets :        7 : Basket Size=      32000 bytes  Compression=   3.07     *\n",
      "*............................................................................*\n",
      "*Br   17 :electrons_mctruthmatch : vector<float>                             *\n",
      "*Entries :    10000 : Total  Size=     160238 bytes  File Size  =      31312 *\n",
      "*Baskets :        7 : Basket Size=      32000 bytes  Compression=   5.10     *\n",
      "*............................................................................*\n",
      "*Br   18 :electrons_minDR : vector<float>                                    *\n",
      "*Entries :    10000 : Total  Size=     160161 bytes  File Size  =      51005 *\n",
      "*Baskets :        7 : Basket Size=      32000 bytes  Compression=   3.13     *\n",
      "*............................................................................*\n",
      "*Br   19 :met_pt    : vector<float>                                          *\n",
      "*Entries :    10000 : Total  Size=     181074 bytes  File Size  =      65718 *\n",
      "*Baskets :        7 : Basket Size=      32000 bytes  Compression=   2.75     *\n",
      "*............................................................................*\n",
      "*Br   20 :met_phi   : vector<float>                                          *\n",
      "*Entries :    10000 : Total  Size=     181085 bytes  File Size  =      68231 *\n",
      "*Baskets :        7 : Basket Size=      32000 bytes  Compression=   2.65     *\n",
      "*............................................................................*\n",
      "*Br   21 :jets_size : jets_size/I                                            *\n",
      "*Entries :    10000 : Total  Size=      40657 bytes  File Size  =       7268 *\n",
      "*Baskets :        2 : Basket Size=      32000 bytes  Compression=   5.53     *\n",
      "*............................................................................*\n",
      "*Br   22 :jets_pt   : vector<float>                                          *\n",
      "*Entries :    10000 : Total  Size=     215897 bytes  File Size  =     112912 *\n",
      "*Baskets :        8 : Basket Size=      32000 bytes  Compression=   1.91     *\n",
      "*............................................................................*\n",
      "*Br   23 :jets_eta  : vector<float>                                          *\n",
      "*Entries :    10000 : Total  Size=     215909 bytes  File Size  =     117593 *\n",
      "*Baskets :        8 : Basket Size=      32000 bytes  Compression=   1.83     *\n",
      "*............................................................................*\n",
      "*Br   24 :jets_phi  : vector<float>                                          *\n",
      "*Entries :    10000 : Total  Size=     215909 bytes  File Size  =     117526 *\n",
      "*Baskets :        8 : Basket Size=      32000 bytes  Compression=   1.83     *\n",
      "*............................................................................*\n",
      "*Br   25 :jets_e    : vector<float>                                          *\n",
      "*Entries :    10000 : Total  Size=     215885 bytes  File Size  =     114182 *\n",
      "*Baskets :        8 : Basket Size=      32000 bytes  Compression=   1.89     *\n",
      "*............................................................................*\n",
      "*Br   26 :muontracks_c : vector<float>                                       *\n",
      "*Entries :    10000 : Total  Size=     141051 bytes  File Size  =      15708 *\n",
      "*Baskets :        6 : Basket Size=      32000 bytes  Compression=   8.95     *\n",
      "*............................................................................*\n",
      "*Br   27 :genlep_pt : vector<float>                                          *\n",
      "*Entries :    10000 : Total  Size=     221279 bytes  File Size  =      84345 *\n",
      "*Baskets :        9 : Basket Size=      32000 bytes  Compression=   2.62     *\n",
      "*............................................................................*\n",
      "*Br   28 :genlep_eta : vector<float>                                         *\n",
      "*Entries :    10000 : Total  Size=     221292 bytes  File Size  =     109092 *\n",
      "*Baskets :        9 : Basket Size=      32000 bytes  Compression=   2.02     *\n",
      "*............................................................................*\n",
      "*Br   29 :genlep_phi : vector<float>                                         *\n",
      "*Entries :    10000 : Total  Size=     221292 bytes  File Size  =     108953 *\n",
      "*Baskets :        9 : Basket Size=      32000 bytes  Compression=   2.03     *\n",
      "*............................................................................*\n",
      "*Br   30 :genlep_e  : vector<float>                                          *\n",
      "*Entries :    10000 : Total  Size=     221266 bytes  File Size  =     106630 *\n",
      "*Baskets :        9 : Basket Size=      32000 bytes  Compression=   2.07     *\n",
      "*............................................................................*\n",
      "*Br   31 :genlep_id : vector<float>                                          *\n",
      "*Entries :    10000 : Total  Size=     221279 bytes  File Size  =      30977 *\n",
      "*Baskets :        9 : Basket Size=      32000 bytes  Compression=   7.13     *\n",
      "*............................................................................*\n",
      "*Br   32 :electrons_charge : vector<float>                                   *\n",
      "*Entries :    10000 : Total  Size=     160172 bytes  File Size  =      31573 *\n",
      "*Baskets :        7 : Basket Size=      32000 bytes  Compression=   5.06     *\n",
      "*............................................................................*\n",
      "*Br   33 :electrons_dB : vector<float>                                       *\n",
      "*Entries :    10000 : Total  Size=     141051 bytes  File Size  =      15708 *\n",
      "*Baskets :        6 : Basket Size=      32000 bytes  Compression=   8.95     *\n",
      "*............................................................................*\n",
      "*Br   34 :electrons_dz : vector<float>                                       *\n",
      "*Entries :    10000 : Total  Size=     141051 bytes  File Size  =      15708 *\n",
      "*Baskets :        6 : Basket Size=      32000 bytes  Compression=   8.95     *\n",
      "*............................................................................*\n",
      "*Br   35 :electrons_isoDeposits : vector<float>                              *\n",
      "*Entries :    10000 : Total  Size=     141141 bytes  File Size  =      15722 *\n",
      "*Baskets :        6 : Basket Size=      32000 bytes  Compression=   8.94     *\n",
      "*............................................................................*\n",
      "2\n",
      "0\n",
      "0\n",
      "array('i', [2])\n",
      "array('i', [0])\n"
     ]
    },
    {
     "data": {
      "image/png": "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\n",
      "text/plain": [
       "<IPython.core.display.Image object>"
      ]
     },
     "metadata": {},
     "output_type": "display_data"
    },
    {
     "data": {
      "image/png": "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\n",
      "text/plain": [
       "<IPython.core.display.Image object>"
      ]
     },
     "metadata": {},
     "output_type": "display_data"
    },
    {
     "name": "stdout",
     "output_type": "stream",
     "text": [
      "***********************************************\n",
      "*    Row   * Instance * electrons * electrons *\n",
      "***********************************************\n",
      "*        0 *        0 *         0 *           *\n",
      "*        1 *        0 *         1 *         1 *\n",
      "*        2 *        0 *         2 *        -1 *\n",
      "*        2 *        1 *         2 *         1 *\n",
      "*        3 *        0 *         0 *           *\n",
      "*        4 *        0 *         1 *         1 *\n",
      "*        5 *        0 *         0 *           *\n",
      "*        6 *        0 *         0 *           *\n",
      "*        7 *        0 *         0 *           *\n",
      "*        8 *        0 *         0 *           *\n",
      "*        9 *        0 *         0 *           *\n",
      "*       10 *        0 *         0 *           *\n",
      "*       11 *        0 *         2 *         1 *\n",
      "*       11 *        1 *         2 *        -1 *\n",
      "*       12 *        0 *         0 *           *\n",
      "*       13 *        0 *         2 *         1 *\n",
      "*       13 *        1 *         2 *        -1 *\n",
      "*       14 *        0 *         0 *           *\n",
      "*       15 *        0 *         1 *         1 *\n",
      "*       16 *        0 *         0 *           *\n",
      "*       17 *        0 *         0 *           *\n",
      "*       18 *        0 *         1 *         1 *\n",
      "*       19 *        0 *         0 *           *\n",
      "*       20 *        0 *         0 *           *\n",
      "*       21 *        0 *         0 *           *\n",
      "*       22 *        0 *         0 *           *\n",
      "*       23 *        0 *         0 *           *\n",
      "*       24 *        0 *         2 *         1 *\n",
      "*       24 *        1 *         2 *        -1 *\n",
      "*       25 *        0 *         1 *         1 *\n",
      "*       26 *        0 *         0 *           *\n",
      "*       27 *        0 *         0 *           *\n",
      "*       28 *        0 *         0 *           *\n",
      "*       29 *        0 *         0 *           *\n",
      "*       30 *        0 *         0 *           *\n",
      "*       31 *        0 *         0 *           *\n",
      "*       32 *        0 *         2 *        -1 *\n",
      "*       32 *        1 *         2 *         1 *\n",
      "*       33 *        0 *         0 *           *\n",
      "*       34 *        0 *         2 *         1 *\n",
      "*       34 *        1 *         2 *        -1 *\n",
      "*       35 *        0 *         0 *           *\n",
      "*       36 *        0 *         1 *        -1 *\n",
      "*       37 *        0 *         0 *           *\n",
      "*       38 *        0 *         0 *           *\n",
      "*       39 *        0 *         2 *        -1 *\n",
      "*       39 *        1 *         2 *         1 *\n",
      "*       40 *        0 *         0 *           *\n",
      "*       41 *        0 *         1 *         1 *\n",
      "*       42 *        0 *         0 *           *\n",
      "*       43 *        0 *         0 *           *\n",
      "*       44 *        0 *         0 *           *\n",
      "*       45 *        0 *         1 *        -1 *\n",
      "*       46 *        0 *         0 *           *\n",
      "*       47 *        0 *         0 *           *\n",
      "*       48 *        0 *         0 *           *\n",
      "*       49 *        0 *         0 *           *\n",
      "***********************************************\n",
      "***********************************************\n",
      "*    Row   * Instance * electrons * electrons *\n",
      "***********************************************\n",
      "*        0 *        0 *         0 *           *\n",
      "*        1 *        0 *         1 *         1 *\n",
      "*        2 *        0 *         2 *        -1 *\n",
      "*        2 *        1 *         2 *         1 *\n",
      "*        3 *        0 *         0 *           *\n",
      "*        4 *        0 *         1 *         1 *\n",
      "*        5 *        0 *         0 *           *\n",
      "*        6 *        0 *         0 *           *\n",
      "*        7 *        0 *         0 *           *\n",
      "*        8 *        0 *         0 *           *\n",
      "*        9 *        0 *         0 *           *\n",
      "*       10 *        0 *         0 *           *\n",
      "*       11 *        0 *         2 *         1 *\n",
      "*       11 *        1 *         2 *        -1 *\n",
      "*       12 *        0 *         0 *           *\n",
      "*       13 *        0 *         2 *         1 *\n",
      "*       13 *        1 *         2 *        -1 *\n",
      "*       14 *        0 *         0 *           *\n",
      "*       15 *        0 *         1 *         1 *\n",
      "*       16 *        0 *         0 *           *\n",
      "*       17 *        0 *         0 *           *\n",
      "*       18 *        0 *         1 *         1 *\n",
      "*       19 *        0 *         0 *           *\n",
      "*       20 *        0 *         0 *           *\n",
      "*       21 *        0 *         0 *           *\n",
      "*       22 *        0 *         0 *           *\n",
      "*       23 *        0 *         0 *           *\n",
      "*       24 *        0 *         2 *         1 *\n",
      "*       24 *        1 *         2 *        -1 *\n",
      "*       25 *        0 *         1 *         1 *\n",
      "*       26 *        0 *         0 *           *\n",
      "*       27 *        0 *         0 *           *\n",
      "*       28 *        0 *         0 *           *\n",
      "*       29 *        0 *         0 *           *\n",
      "*       30 *        0 *         0 *           *\n",
      "*       31 *        0 *         0 *           *\n",
      "*       32 *        0 *         2 *        -1 *\n",
      "*       32 *        1 *         2 *         1 *\n",
      "*       33 *        0 *         0 *           *\n",
      "*       34 *        0 *         2 *         1 *\n",
      "*       34 *        1 *         2 *        -1 *\n",
      "*       35 *        0 *         0 *           *\n",
      "*       36 *        0 *         1 *        -1 *\n",
      "*       37 *        0 *         0 *           *\n",
      "*       38 *        0 *         0 *           *\n",
      "*       39 *        0 *         2 *        -1 *\n",
      "*       39 *        1 *         2 *         1 *\n",
      "*       40 *        0 *         0 *           *\n",
      "*       41 *        0 *         1 *         1 *\n",
      "*       42 *        0 *         0 *           *\n",
      "*       43 *        0 *         0 *           *\n",
      "*       44 *        0 *         0 *           *\n",
      "*       45 *        0 *         1 *        -1 *\n",
      "*       46 *        0 *         0 *           *\n",
      "*       47 *        0 *         0 *           *\n",
      "*       48 *        0 *         0 *           *\n",
      "*       49 *        0 *         0 *           *\n",
      "***********************************************\n",
      "***********************************************\n",
      "*    Row   * Instance * electrons * electrons *\n",
      "***********************************************\n",
      "*        0 *        0 *         0 *           *\n",
      "*        1 *        0 *         1 *         1 *\n",
      "*        2 *        0 *         2 *        -1 *\n",
      "*        2 *        1 *         2 *         1 *\n",
      "*        3 *        0 *         0 *           *\n",
      "*        4 *        0 *         1 *         1 *\n",
      "*        5 *        0 *         0 *           *\n",
      "*        6 *        0 *         0 *           *\n",
      "*        7 *        0 *         0 *           *\n",
      "*        8 *        0 *         0 *           *\n",
      "*        9 *        0 *         0 *           *\n",
      "*       10 *        0 *         0 *           *\n",
      "*       11 *        0 *         2 *         1 *\n",
      "*       11 *        1 *         2 *        -1 *\n",
      "*       12 *        0 *         0 *           *\n",
      "*       13 *        0 *         2 *         1 *\n",
      "*       13 *        1 *         2 *        -1 *\n",
      "*       14 *        0 *         0 *           *\n",
      "*       15 *        0 *         1 *         1 *\n",
      "*       16 *        0 *         0 *           *\n",
      "*       17 *        0 *         0 *           *\n",
      "*       18 *        0 *         1 *         1 *\n",
      "*       19 *        0 *         0 *           *\n",
      "*       20 *        0 *         0 *           *\n",
      "*       21 *        0 *         0 *           *\n",
      "*       22 *        0 *         0 *           *\n",
      "*       23 *        0 *         0 *           *\n",
      "*       24 *        0 *         2 *         1 *\n",
      "*       24 *        1 *         2 *        -1 *\n",
      "*       25 *        0 *         1 *         1 *\n",
      "*       26 *        0 *         0 *           *\n",
      "*       27 *        0 *         0 *           *\n",
      "*       28 *        0 *         0 *           *\n",
      "*       29 *        0 *         0 *           *\n",
      "*       30 *        0 *         0 *           *\n",
      "*       31 *        0 *         0 *           *\n",
      "*       32 *        0 *         2 *        -1 *\n",
      "*       32 *        1 *         2 *         1 *\n",
      "*       33 *        0 *         0 *           *\n",
      "*       34 *        0 *         2 *         1 *\n",
      "*       34 *        1 *         2 *        -1 *\n",
      "*       35 *        0 *         0 *           *\n",
      "*       36 *        0 *         1 *        -1 *\n",
      "*       37 *        0 *         0 *           *\n",
      "*       38 *        0 *         0 *           *\n",
      "*       39 *        0 *         2 *        -1 *\n",
      "*       39 *        1 *         2 *         1 *\n",
      "*       40 *        0 *         0 *           *\n",
      "*       41 *        0 *         1 *         1 *\n",
      "*       42 *        0 *         0 *           *\n",
      "*       43 *        0 *         0 *           *\n",
      "*       44 *        0 *         0 *           *\n",
      "*       45 *        0 *         1 *        -1 *\n",
      "*       46 *        0 *         0 *           *\n",
      "*       47 *        0 *         0 *           *\n",
      "*       48 *        0 *         0 *           *\n",
      "*       49 *        0 *         0 *           *\n",
      "***********************************************\n",
      "***********************************************\n",
      "*    Row   * Instance * electrons * electrons *\n",
      "***********************************************\n",
      "*        0 *        0 *         0 *           *\n",
      "*        1 *        0 *         1 *         1 *\n",
      "*        2 *        0 *         2 *        -1 *\n",
      "*        2 *        1 *         2 *         1 *\n",
      "*        3 *        0 *         0 *           *\n",
      "*        4 *        0 *         1 *         1 *\n",
      "*        5 *        0 *         0 *           *\n",
      "*        6 *        0 *         0 *           *\n",
      "*        7 *        0 *         0 *           *\n",
      "*        8 *        0 *         0 *           *\n",
      "*        9 *        0 *         0 *           *\n",
      "*       10 *        0 *         0 *           *\n",
      "*       11 *        0 *         2 *         1 *\n",
      "*       11 *        1 *         2 *        -1 *\n",
      "*       12 *        0 *         0 *           *\n",
      "*       13 *        0 *         2 *         1 *\n",
      "*       13 *        1 *         2 *        -1 *\n",
      "*       14 *        0 *         0 *           *\n",
      "*       15 *        0 *         1 *         1 *\n",
      "*       16 *        0 *         0 *           *\n",
      "*       17 *        0 *         0 *           *\n",
      "*       18 *        0 *         1 *         1 *\n",
      "*       19 *        0 *         0 *           *\n",
      "*       20 *        0 *         0 *           *\n",
      "*       21 *        0 *         0 *           *\n",
      "*       22 *        0 *         0 *           *\n",
      "*       23 *        0 *         0 *           *\n",
      "*       24 *        0 *         2 *         1 *\n",
      "*       24 *        1 *         2 *        -1 *\n",
      "*       25 *        0 *         1 *         1 *\n",
      "*       26 *        0 *         0 *           *\n",
      "*       27 *        0 *         0 *           *\n",
      "*       28 *        0 *         0 *           *\n",
      "*       29 *        0 *         0 *           *\n",
      "*       30 *        0 *         0 *           *\n",
      "*       31 *        0 *         0 *           *\n",
      "*       32 *        0 *         2 *        -1 *\n",
      "*       32 *        1 *         2 *         1 *\n",
      "*       33 *        0 *         0 *           *\n",
      "*       34 *        0 *         2 *         1 *\n",
      "*       34 *        1 *         2 *        -1 *\n",
      "*       35 *        0 *         0 *           *\n",
      "*       36 *        0 *         1 *        -1 *\n",
      "*       37 *        0 *         0 *           *\n",
      "*       38 *        0 *         0 *           *\n",
      "*       39 *        0 *         2 *        -1 *\n",
      "*       39 *        1 *         2 *         1 *\n",
      "*       40 *        0 *         0 *           *\n",
      "*       41 *        0 *         1 *         1 *\n",
      "*       42 *        0 *         0 *           *\n",
      "*       43 *        0 *         0 *           *\n",
      "*       44 *        0 *         0 *           *\n",
      "*       45 *        0 *         1 *        -1 *\n",
      "*       46 *        0 *         0 *           *\n",
      "*       47 *        0 *         0 *           *\n",
      "*       48 *        0 *         0 *           *\n",
      "*       49 *        0 *         0 *           *\n",
      "***********************************************\n"
     ]
    },
    {
     "name": "stderr",
     "output_type": "stream",
     "text": [
      "Type <CR> to continue or q to quit ==> Type <CR> to continue or q to quit ==> Type <CR> to continue or q to quit ==> Type <CR> to continue or q to quit ==> Type <CR> to continue or q to quit ==> Type <CR> to continue or q to quit ==> Type <CR> to continue or q to quit ==> Type <CR> to continue or q to quit ==> "
     ]
    }
   ],
   "source": [
    "#Prima cosa: giriamo il notebook precedente \n",
    "%run ./trees_and_ntuples.ipynb"
   ]
  },
  {
   "cell_type": "code",
   "execution_count": 2,
   "id": "3d5f346f",
   "metadata": {},
   "outputs": [
    {
     "data": {
      "text/plain": [
       "10000"
      ]
     },
     "execution_count": 2,
     "metadata": {},
     "output_type": "execute_result"
    }
   ],
   "source": [
    "#Non solo l'output, anche il tree è presente!\n",
    "mytree\n",
    "mytree.GetEntries()"
   ]
  },
  {
   "cell_type": "markdown",
   "id": "a6276028",
   "metadata": {},
   "source": [
    "## Ora facciamo un loop sugli eventi!"
   ]
  },
  {
   "cell_type": "code",
   "execution_count": 3,
   "id": "a983282e",
   "metadata": {},
   "outputs": [
    {
     "name": "stdout",
     "output_type": "stream",
     "text": [
      "******************************************************************************\n",
      "*Tree    :events    : events                                                 *\n",
      "*Entries :    10000 : Total =         6072458 bytes  File  Size =    2146782 *\n",
      "*        :          : Tree compression factor =   2.82                       *\n",
      "******************************************************************************\n",
      "*Br    0 :jets_size : jets_size/I                                            *\n",
      "*Entries :    10000 : Total  Size=      40665 bytes  File Size  =       7268 *\n",
      "*Baskets :        2 : Basket Size=      32000 bytes  Compression=   5.53     *\n",
      "*............................................................................*\n",
      "*Br    1 :jets_pt   : vector<float>                                          *\n",
      "*Entries :    10000 : Total  Size=     215929 bytes  File Size  =     112912 *\n",
      "*Baskets :        8 : Basket Size=      32000 bytes  Compression=   1.91     *\n",
      "*............................................................................*\n",
      "*Br    2 :jets_eta  : vector<float>                                          *\n",
      "*Entries :    10000 : Total  Size=     215941 bytes  File Size  =     117593 *\n",
      "*Baskets :        8 : Basket Size=      32000 bytes  Compression=   1.83     *\n",
      "*............................................................................*\n",
      "*Br    3 :jets_phi  : vector<float>                                          *\n",
      "*Entries :    10000 : Total  Size=     215941 bytes  File Size  =     117526 *\n",
      "*Baskets :        8 : Basket Size=      32000 bytes  Compression=   1.83     *\n",
      "*............................................................................*\n",
      "*Br    4 :jets_e    : vector<float>                                          *\n",
      "*Entries :    10000 : Total  Size=     215917 bytes  File Size  =     114182 *\n",
      "*Baskets :        8 : Basket Size=      32000 bytes  Compression=   1.89     *\n",
      "*............................................................................*\n"
     ]
    }
   ],
   "source": [
    "\n",
    "mytree.Print(\"jets*\")"
   ]
  },
  {
   "cell_type": "code",
   "execution_count": 4,
   "id": "f3a81101",
   "metadata": {
    "scrolled": true
   },
   "outputs": [
    {
     "name": "stdout",
     "output_type": "stream",
     "text": [
      "event # 0 n jets  2  pt:  { 56.3023f, 55.8997f }\n",
      "leading jet pt 56.30229949951172  mass?  5.134994026979267\n",
      "event # 1000 n jets  3  pt:  { 30.0213f, 25.7592f, 22.6790f }\n",
      "leading jet pt 30.02133560180664  mass?  4.819653273611887\n",
      "event # 2000 n jets  2  pt:  { 45.6171f, 35.1373f }\n",
      "leading jet pt 45.61709213256836  mass?  4.819771473086346\n",
      "event # 3000 n jets  2  pt:  { 22.3066f, 20.7958f }\n",
      "leading jet pt 22.306556701660156  mass?  6.789703805725764\n",
      "event # 4000 n jets  3  pt:  { 65.5453f, 39.3958f, 35.9018f }\n",
      "leading jet pt 65.54531860351562  mass?  12.201516049901832\n",
      "event # 5000 n jets  2  pt:  { 58.5544f, 49.1629f }\n",
      "leading jet pt 58.5544319152832  mass?  12.885972862458438\n",
      "event # 6000 n jets  3  pt:  { 58.3725f, 37.2806f, 23.7087f }\n",
      "leading jet pt 58.37245178222656  mass?  4.705065603508283\n",
      "event # 7000 n jets  1  pt:  { 32.0088f }\n",
      "leading jet pt 32.00883102416992  mass?  3.7364037975131237\n",
      "event # 8000 n jets  3  pt:  { 38.3194f, 34.4998f, 20.6476f }\n",
      "leading jet pt 38.319358825683594  mass?  4.917433864190214\n",
      "event # 9000 n jets  2  pt:  { 49.2051f, 46.0630f }\n",
      "leading jet pt 49.20511245727539  mass?  6.629038826031875\n"
     ]
    }
   ],
   "source": [
    "h_jet_mass = ROOT.TH1F(\"Jets_mass_0\",\"Leading jet mass\",100,0,100) \n",
    "for i in range (mytree.GetEntries()):\n",
    "    mytree.GetEntry(i)\n",
    "    #Ogni 100 eventi stampo a schermo il vettore dei jet!\n",
    "    if(i%1000==0):print( \"event #\", i, \"n jets \",mytree.jets_size, \" pt: \",mytree.jets_pt)\n",
    "    #Se c'è almeno 1 jet: stampo il \n",
    "\n",
    "    if(mytree.jets_size):\n",
    "            jet_0 =ROOT.TLorentzVector()\n",
    "            jet_0.SetPtEtaPhiE(mytree.jets_pt[0],mytree.jets_eta[0],mytree.jets_phi[0],mytree.jets_e[0])\n",
    "            if(i%1000==0):print(\"leading jet pt\",mytree.jets_pt[0],\" mass? \",jet_0.M())\n",
    "            h_jet_mass.Fill(jet_0.M())"
   ]
  },
  {
   "cell_type": "code",
   "execution_count": 5,
   "id": "05057a05",
   "metadata": {
    "scrolled": false
   },
   "outputs": [
    {
     "data": {
      "image/png": "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\n",
      "text/plain": [
       "<IPython.core.display.Image object>"
      ]
     },
     "metadata": {},
     "output_type": "display_data"
    }
   ],
   "source": [
    "#Diseg\n",
    "c1= ROOT.TCanvas()\n",
    "c1.Draw()\n",
    "h_jet_mass.Draw()\n",
    "\n",
    "\n",
    "\n"
   ]
  },
  {
   "cell_type": "markdown",
   "id": "aac12994",
   "metadata": {},
   "source": [
    "## Esercizio 1:\n",
    "\n",
    "Proviamo a fare la somma vettoriale  di due elettroni di carica opposta e disegnarne la massa.\n",
    "Facciamo lo stesso coi muoni.\n",
    "\n",
    "### 1.1 Che forma ha questa distribuzione\n",
    "\n",
    "### 1.2 Quante coppie avrò per evento?\n",
    "\n",
    "\n",
    "## Esercizio 2: \n",
    "\n",
    "Proviamo a fittare la distribuzione che viene fuori, ad es. con gauss + expo, o... altro?\n"
   ]
  },
  {
   "cell_type": "code",
   "execution_count": 6,
   "id": "3d3fa195",
   "metadata": {},
   "outputs": [
    {
     "data": {
      "image/png": "iVBORw0KGgoAAAANSUhEUgAAArgAAAHYCAIAAAApvgy/AAAABmJLR0QAAAAAAAD5Q7t/AAAgAElEQVR4nO3dwY4jx2E/4O7Az5CLc1M0o90nyK2bFwmQtJawa+URZFgXy7sLWIYis9sOEAWIFPkSIPsIASQ7kWzAubB58xNI8gq++ZaH4P9QnvrXdrM4nJkestnzfYcF2ewmu8hZ1o9V1VXlZrMpAAC2+ZtjnwAAMF2CAgCQJSgAAFmCAgCQJSgwQ++9915ZlmVZ/v3f//2O3V577bWw23vvvXewcxvLD3/4w/v375dlecPn+du//dubP8nd8Q//8A/eLu4aQYE5+/Of/7zj0f/93//dZ7cJ+uEPf/j5559/8803N3+q//u//7v5k2zVNE3TNLf05Mfyl7/8pSiKR48eHftE4HAEBWbutdde27r9FFsRoq+//rooio8++mjKlze3bdu27bHPYmR/93d/9/3vf//zzz8/9onA4Xzv2CcAtys2G+y5/SSEtoRf/vKXxz6RO+ePf/zjsU8BDk1QYLZeeumlIt+tELa/+uqrWxPD06dPi6J4/vz52dnZv/3bv+Ve4smTJ+HGJ598cpN9tvr5z39eFMW//Mu/XOmord5///1w47PPPhv3qF/84hfhxlVTy0cffVQUxa9+9at04wcffBBufPzxx7sP/+lPf/rdd9+9/PLL//7v/36l1/2nf/qnoij++Z//ObfDnh/91mf+5ptvNDYwQxuYnR//+MdFUbz00kuvvvpqURSvvvrqlXYY/jc5OzvrPcObb7556T5nZ2e9fR4/fnzpycfKMnrllVfio8Pe8d3P9vrrr/f2/8lPfjIs7FWP2mw2oaZPPXr0KDz0zjvvbD3Joiju3bsXXzTcDt56663eIW+99Vb6cm+88UZRFO+//364kXr//fd3vAMPHz4siuLDDz8MN6L01YMY6VIPHjxI9/n+979fFMXDhw/D3Xv37oXShRuXfhxwivxZM0MxB2wyFWFobPjxj388DAppDREMK4zHjx+HjWdnZ2+++WYMDWlWiM8TdoihYfeZx5TwyiuvvP3222+//Xavrv3oo49iVnj06FGsm7d6+eWXw56vv/7666+/nt7tnec+R6VZIaaEe/fuhdOIp7TZbJbLZcwK77zzzjvvvBNfK1aoRRIsYko4Pz9/6623zs/P4934iiEfhJN5+eWXe4lhx5uQ5oN79+49fPgw3ZLuGT/E8LnHj+zJkydxn61BIRZqGD5gBgQFZigNCiET9HaIlUQvKMTflOnOw42hCuk1D6T7xCSR7hCOevPNN3eceTjq7bffHm784IMPtr5Wzk9+8pPhbsONvbtXOiqMpgxidNhxkrl6PWz82c9+Frf87Gc/622MseCNN94YHrvjfYixoFeLh42xyg+JsNcsNNy4NSgURfHhhx/uOAc4aa56YOZCUEivfQjXO4TtQw8ePOg1QQ87qp8/fz488PHjxzEfBL2uhz/96U+PHz8e9kdEYVBCURS/+c1v0u2hmeHSbvue3//+90VRxDo++Oyzz8KP8jj+oOfXv/71pUdtHZfwy1/+MtSa8dGcMEogCq0m5+fnaQE//vjj0Mzw29/+tnf4V199NXzOn/70p7tftLi4VCT68MMPi6L44osvwt3YkJDus+PDSt27d2/HoAc4ecdOKjC+tEVhM/jRGfsdNoMWha1i5RG3xPpjx5iDsMPZ2dk+4xKCUGX2mhO2FmGf/7y5fcL4g9j7sOczp0eFjobdvR5bn2rrk4eOhrQ5IYiNCuFu7Hro7RYTTO40QovC1k6BS9/G8EFf2qKgOYF506LA/PUaD8L1Dv/xH/+R2//p06fn5+flhS+//LK3w5/+9Kdw49NPPw37DNshwsCF58+fh33Oz897v1aHvv3226IoXnnllX0LtodyILQ0fPfdd9c4Kgg/ze/fvz/KGcY3s2drC8qeP/GH0rERPWkLxw9+8IP0o9/adAR3jcsjmb+XXnrpz3/+82uvvfaHP/xhd79DURTpBL1nZ2fn5+dnZ2fDKxs3m82TJ0+++uqrUJeE9vCvvvoqVnshXjx48CA89Pz58+fPn5dl+fjx46teJ3kTcSjiPttjf0TuqBl7+vRp/FxCHMl99HDXCArM3x/+8IeyLMN8CeHf0OMwFJrBz87Oej9zt9YWn3zySdweAsHz58+fPHmS7hxbI2Kq+PTTT3N1zyuvvPLtt9+GdoWxXOk38WeffRbGKOxzVK/L/9rOz89zjQoj2jHddRheED6UBw8e/M///E98KMypAHecrgfuhNCE8N577+3udwgV5KX11rAf4csvvww/Q8MzPHjw4Pz8PO2M+OSTT/asDodBIQ5yvIbhoMU33njj7OwsN5hxn6NCp8MwKIRFqi4dzNgTulqGgxbjIMcrPVvOMCikPQ4xEKQpAfirYw+SgPH1BjNuLgYtBsPtcTDj1v8UwykQwt3eKMX06scwQGE4BdOl/+nCDumVkJtt10zu8583Tpq0+xx6d8NRvTGD+1weeekz7zjtsL03nrG3MQxm7F0budl7MGORjEAMwqiFuHHHe2UwI3ecrgfuhND7EG7n+h2Kojg7OwsjCWJjwJdffhnb4Z8+fRoulQy7ffrpp2Gi36Io4mCF0NcQWxfOz8/jqMYwWGE4pWPq7bff/u1vf/vxxx9/++23oSci/tTuXTN5qd/97nehyGVZhnmTvvvuuzAmcTjxYu+o7777bvdRjx49+vzzz3/1q199/fXX9+/f//rrr8PUxcMxg//4j/94//793ctIht6Hf/3Xf42l/u///u9icM3kDX3xxRf3799/+PDhN998E6+K7M24HNuKnj9/HruNDGnkrjt2UoHxDVsUNhdXRfb+5nfMzBg9efJkOEnf1uH3aRvD1kAwbGMYSmdjDNIpnNOT3OetGA5L7LUWbH2q4VHpZI7BcDLp3iWI6UTOl572cArndFrGzY1bFB4+fDgMMeluw/mbw4fV21mLAndQuZnwMrVwFE+fPg0/ItNlgX7wgx8UL/ZhP3nyJP7WzA2Pj/tcdfz8z3/+83i15A3XhXr//ffDxZAvv/zy/otC7XnUL37xi3i15HBdqKZpwqP/9V//tc+LfvDBB6FRYcSGhEePHn3xxRcPHz78/PPPw7pNRX6KpD0/erhTBAVgztKgcOxzgZPkqgcAIEtQAACyBAUAIMsYBQAgS4sCAJAlKAAAWWZmBGBk6SqsTNaeYw8EBQDGZwDcxO0f5nQ9AABZggIAJ6au667rjn0Wt6Wu62OfwgsEBQBOzHq9nnFQmFrpBAUAIEtQAOAkdV3XNM3+3RBN08Sjwu2wsa7reLf3zE3T9J4896JXPZkdrz45R13kGoAZuu3KpSiKqqriv0VRLJfLaxxVXQi3w26r1So+Gm6sVqvwUNyzd0hu+w7DV0nPM77i7dn/MxIUABjZAYJC+hKhht7nqLjbcrlM40Worbc+W3pUekh4ht3b9zyZ4atMKijoegDg9MQf4kVR1HW9Xq/3OSo28ocrC+L1BWnjf9d1O7oP4kNN02ySuSJy23c8Sfqiq9VqzyIcnqAAwOkZ5RrC3JOEoQNlWfZmJVoul+v1OmxPq/nc9t0Wi0V5YbFYXK8IByAoAMD/V5Zl27Z1XYf2/7TpIrQWrFarqqrato0xIrd9t9XArZTnxgQFAPir0CmwWq1Co0JRFGmPQGgtCJc2hP6FsCW3PSe2ZNQXiqTzYmoEBQB4QTrgIN3etm3cEvYJdXxu+w5VVcXuhq7rFouFoAAAU1fXdew+KMuy67qqqtbrdcgBy+UyPrRYLKqqCoEgt32HEAvSQyYbFMpLB2cCwJWU5WlXLrHOTjsFYt2fazPYsy1hxwsd0v6f0Wl/lgBM0KkHhbtg/8/oe7d9Kge2/wLbAMxJ6OnPPXrg4LL7ZFar1dSWiNxhbqFPjAU4Ol/F03d3WxQAmALtu7MhKAAwPi0KE7d/knN5JACQJSgAAFmCAgCQJSgAcCBN05Tb3OQJT+g6w5ymaXLTMnZd11sCu35Rb8+6rvdfvnJPMxzMmPubM7IGYAquukximJNg63f4DFJCURRt2xaZsoTZnePdpmnW63W6JQhvUdjetm3btiNWeTMMCgIBwJSNWLv3flWfnLqu09Upe4a/e9fr9XK5HLYZpKtFxCWmxnpndD0AMAlhEaa6rkN/RKgO4xSH4dHmQrybVofx2LSK7boubpxaqqjrerlcbn0oFH/YeJArQkwP4y9avZmX+ZUI4OTkvopDpbgaiEeFR9M94+2wT6g4q6oaPhS3r1arsNtwe7h9S6W+tqIolstluiWc6mazqaoqPeEiiQ65gqTvye4X3fP0Ztj1AMCUDRdB2FykhOVyGX4QN00Teu6LoqjrOt4Ohj+XY6t7vBvbJ4qkh+KqwyOOZbFYDE81li48tFgsetMwxzct10pxPYICAAe1yY8k26drYNgaX1xUor3O+xAUqqpq2zbcHv2KgNsQznn4VtR1nb51m80mdNDEQsV+mbZtRxy9YYwCADMUGye6rgs/wdu2jUMfpmy9Xq/X61DTx9v7jzlomqaqqhGLqUUBgJMXuifS2jGOcwxtCbHJobfbBKUdB+GaiBAauq7rTasQ7Lh8dBSCAgAHNfxxfPNG8jiyIdSjaSBYLBZbLymcrN4MS+mWMAQhlrF48WKHOFAjXEU51vkICgAc1HAw42q12pEVwkNlWe4eirharRaLRRz2GHdeLpdhDqJ495rnfWzhWsq0LLGMoezxotBxux7K22usOIreEFBglsry2XDjZvPu4c+ErW7jq3jPGYTCr+rhnrntp2iUMu7/Gc2tWhUU4C4oy2e9WDDcwhH5Kp6+/T8jVz0AAFmCAgCQNcPBjFaPBICxzDAoCAQAMBZdDwBAlqAAwIGEtZ63Trh0EpMrjyJMGbl1gsXw0O7ZmnP75J725gQFAA5qWMmFiYrvgrIsw3RJYeGJuL1pmsViEd6ZxWKxtb6PS2KGfdL5EnJPO449l6M+FfMrETBUFP956RaOKPdVvLXqSadQPMTJHU9Y9zLeTYuc3g5zRw4P771FRVGsVqvh/lVVVVV16cnsX11qUQDgcEKtljYqNE3Tm1Y5/HQO0t/N6fa0CyM0xYf+i94hU5OukV1VVVydoUhWbWiaZpMZlZ8WLc7T3LZt+gY2TTNuC42gAMBBxQoyCMsopzuEZZw2m81qtVqv17EGXSwWVVWtVqvQCBG3r9fr0BQffl6nh0xKqMKbpgnDEeJ5xncjLGq1/4rSUXrINQ6/xJ4tD7dntVotl8uqqnqNTtWLQgNLPGS4fzCFEgG3TdfDxOW+iouiWC6XoZoPW+Lt4qJdvddynu6cfu2n7e1FUaSHFBPuxUhbFOJJxo2h7LnzT4sZ+2s2g66HPSv3/avLI7copMM30iEYYZXMHYcULw7rAOBUhPaD2N7e63dYr9fhp3YUH4q/xeu6jisops8ZpJXxpIRWhPC7d7VaxYWwg9Vq1XVd13XhoeHhoX0ldK+ExpX4tFVVxR6Z0Yt/5KAQelbCWxMCTm8d7ij+EbRtG9/NcVfSBOAw4rf3sN+heLGmD2srh9uhggw1wimuFh2qvFDeuGZ0cZFy4vuQBqlU6FsJPS+xgSE8FOrQsH30avH4MzP2YmA6smMolD8eElsXADgh4du795UehMqv15AQ/41N6yf6K/EmAy1DU0p8hvV6nY4MjQ+N/s4cuUVhs9mk71qMlqHYsSElFrsXIHKxC4ApC9/eveH6QWifj1/suS7mrY3zE1dVVfrjtm3bNBXFmi5tYAhdLWF713Xx8N4hsRM/dNyP3Nyy51iG25aOy9hcjOwIY15CgbcOctkkF5LGu6f7JgB7Mphx4nLfq8VgBF/8Ai8GEwkMv6LTjWGfUCMUL47+y412n4K0CMMxm1F8W7YOVOzts8mMkbz0TPY853Jz3cp1RHVdr9fr3gUzwx02F80P6W5lWa5Wq9gsUZaTKBFwq8ry2Wbz7u4tHNEoX8WxRT23cesO05dO/7D1od0lyu1z1Xdj/8/o+NVqGKIZul5y+4T2ls1m0zRN27bxnOP29NmOXiLgtgkKE+erePr2/4yOPEYhpIT0ooagt+JFLn8ZnQAAt+qYVz3EdpLhEMUwzVYMO3HASxzSGeetnOz1sgAwA8dsHQr9CL2NcaRCuv5VOnwhHfZZJJfKBNq74C7Q9TBxvoqn75TGKOywY2hG7iF/nXAXCAoT56t4+vb/jI4/4dIOO4Y3ntwwVwA4RVaPBACyBAUADqdpmjKx53zD6dTFqfJFw9Hx0xSWK+ptDNMEXLrMdNytt6VnxPdBUADgQMIY9nQGxnQFxVwa2K2qqrBOUrg4Li4hMWVxxuUorocZBuzn3oeyLMNu6XrLQ7nll69pzxkcT8X8SgQMmcJ54nJfxcVgguF0iuLhJP1R7qHdTzhB8ZL+9LTD/M1xSuZwd3jscDrnrbM173gbU/u/S1oUADic3i/ppmlCvRhm0ElXna7rOnYo7P/8vdWSuq5LOybiM6etDmGf6xTm6rYukN27ji+33mFvDa3NthWlw6JQI/e/7BkoTsX8SgQMaVGYuNxXcaznLv0pnC4ZFW7v2aIQNsad4w4hjoTbvZ/me/4EH1HuHQhyLQrhDQmdLLnDdz9zb899dttsNnOrVu9OJIK7TFCYuB1fuavVKrfUYaywe03xmxfr/t4LDevF+Dy9BJBWwMWLC1emr3UAO6rzdMHk4VFBfAO3Hrv/Oey556TnUbiezX4zSABweHFAftd1YWxjutRfb894+0qz9YfliIuLMX1pN0S6W1hmKDw6hbl54rzDy+UyNx4znad4eJVHr29iLMYoAHAgaf0XKrnwK3/0axpjxZ8mjHR8QLjgIrz0bVSuV9U0zWKxCO0fO67aSB9aLpfp1Q3hPbyNKz5m2KIAwDS1bdu7BnLPn/KxkeBS6WDGcEhvyoF4o23bWxn6d3Vd17Vtu1qtLn030sWWh8NCb2mVRC0KABxIVVW9KQRCtderIHsbd/9K7hJhNoLYQtA0TZoDyrJMXzqczBSWIE47R6K4JT4aW0GKi6sb0raQ9IKRke05luFUzK9EwJDBjBO346t4WDHHh0K1l45njHbMo9DbrTcssdetMHzowMMYg2IwinNYO4cTG16gkRY2bs9dKLH7HPbcc24LfFmyDO4Cq0dO3KVfxbkVgHvbd6whfCVjPc9EpB0Q1zaTZaavQVCAu0BQmDhfxdO3/2dkjAIAkCUoAABZLo8EYHwHWz2B2yYoADCyuzxAYX7jM3Q9AABZggIAkDXDrodcx9jM2oIA4ABmGBQEAgAYi64HACBLUAAAsgQFACBLUAAAsgQFACBLUAAAsgQFACBLUAAAsgQFACBLUAAAsgQFACBrhms9WBQKAMYyw6AgEADAWGYYFID5Kctnxz4FuKMEBeA0bDbvHvsU4C4ymBEAyBIUAIAsQQEAyBIUAIAsQQEAyBIUAIAsQQEAyBIUAIAsQQEAyBIUAICsGU7hbPVIABjLDIOCQAAAY9H1AABkCQoAQJagAABkCQoAQJagAABkCQoAQJagAABkHT8odF3XNE1d103T9B4K27uuGx6ydX8AYFxHDgpN0ywWixAF2rZNJ1Usy7Jt26IoFotFXde9Q4qi6LquLMthjAAAxlIedx7DsiyXy2VsG4h3m6Zp2zaeW1mWq9UqxIX0dvg3zQpleeQSAbehLJ9tNu/eZAc4jPlVQ8fvekhbC6qqiq0LVVWl20OYCP/GQ5qmWa/XhzpTALhzjhwUNptNGhTW63W8m26v6zoEgl5Hw7BFAQAY0fFbFIIw4KC4aDPYIW1p2Kq8urFKAQAzM4mgUNf1YrGoqmqUfp3N1d38RQFglo4fFMIP+tVqtU8PQuyDCMIhaScFADCiIweFsizDAMZeZR9HNQZd14Ueh95uRicAwK363hFfO7YHDIcoxvkVwqPr9Xq1WhUXQSFcP1kMLo4AAMZ1zMs9w2QJvY2xLSF9NJ1roeu6MOFS0Dv/+V3AChTmUeB0zK8amnp5hr0ScXuxbXTC/D4hoBAUOB3zq4aO2fWwj9xARQMYAeAAjn/VAwAwWYICAJAlKAAAWYICAJAlKAAAWVO/6uEacos8zex6FQA4gBkGBYEAAMai6wEAyBIUAIAsQQEAyBIUAIAsQQEAyBIUAIAsQQEAyJrhPArA3VSWz9K7m827xzoTmBNBAZiDXizohQbg2nQ9AABZggIAkCUoAABZMxyjYPVIABjLDIOCQAAAY9H1AABkCQoAQJagAABkCQoAQJagAABkCQoAQJagAABkCQoAQJagAABkCQoAQJagAABkCQoAQNYMF4WyeiQAjGWGQUEgAICx6HoAALIEBQAgS1AAALIEBQAgS1AAALIEBQAgS1AAALIEBQAgS1AAALIEBQAgS1AAALIEBQAga4aLQlk9EgDGMsOgIBAAwFh0PQAAWYICAJAlKAAAWYICAJAlKAAAWYICAJA1laDQNE1vS/2iruviQ13X1XU9PAQAGNckgkLXdW3b9qLAer3eunPTNIvFIuxTlmV6FAAwriNPuNR1XdM0uUywNQS0bbtareq6LooitCvICgBwS47folDX9XK57G3M1f2huyGkhHA3FzIAgJs7clAITQLD0QYhKJQX4g69ABESgxYFALglk17rYblchmGMbdsWF80JVVXtPiq3KNQOlocAgK0mGhTSRoKYFfa8zEGtDwBjOf4YhX3EiFDXdTooIeSJOGQBABjXRIPCcOKEuD3dzegEALhVEw0K6/U6TJYQtG0browIQSE2MLRte+mQBQDg2iYaFMI4g3jVQ1VVMRysVqu2bcP2QqMCANymqQxmHI5A3Gw2W4cg1HWdewgAGNdUgsJWO3KAiAAABzDRrgcAYAoEBQAgS1AAALIEBQAgS1AAALIEBQAga9KXR15PbvVIi0UBwFXNMCgIBAAwFl0PAECWoAAAZAkKAECWoAAAZAkKAECWoAAAZAkKAECWoAAAZAkKAECWoAAAZAkKAECWoAAAZM1wUSirRwLAWGYYFAQCABiLrgcAIEtQAACyBAUAIEtQAACyBAUAIEtQAACyBAUAIEtQAACyBAUAIEtQAACyBAUAIGuGaz1YFAoAxjLDoCAQAMBYdD0AAFmCAgCQJSgAAFmCAgCQNcPBjMCpK8tnxz4F4K8EBWCKNpt3j30KQFEICsBcDZslhA+4BkEBmKFhJtCdAddjMCMAkCUoAABZggIAkCUoAABZMxzMaPVIABjLDIOCQAAAY9H1AABkCQoAQJagAABkCQoAQJagAABkCQoAQJagAABkTSUoNE2zdWNd113X9bZ3XVfX9dZDAIARTSIodF3Xtm0vEJRl2bZtURSLxaKu67i9aZrFYhGOKstyGCMAgLEcOSiEtoFQ8adCa8Fms+m6brPZrNfrGAjatl2tVl3XdV1XVZV2BQC4PcdvUajrerlc9ja2bVtVVbwbA0H4NzYwNE2zXq8PcpoAcBcdOSiEoQZbWwXS7oa6rkMg6HU0hH30PgDALTm9RaHSloatcqtH7mAdKQDY6vSCwqXU+gAwluOPUbiS2AcRhE6HtJMCABjRRINCVVXpyINwgUMxyARGJwDArZpoUAiXM4Qc0HXder1Or3eIgx97F0cAAOOa6BiFcM1knF9huVzGtoTVarVYLMJcTIVGBQC4TeXEh/6FGZm2bi+2jU4oy6mXCLhUWT7bbN6d/nPC0PyqoYm2KES5gYoGMALAAUx0jAIAMAWCAgCQJSgAAFmCAgCQJSgAAFlTv+rhGnKLQs3sehUAOIAZBgWBAADGousBAMgSFACALEEBAMgSFACALEEBAMgSFACALEEBAMgSFACALEEBAMgSFACALEEBAMgSFACArBkuCmX1SAAYywyDgkAAAGPR9QAAZAkKAECWoAAAZAkKAECWoAAAZM3wqgfgtJTls2OfApAlKADHt9m8e+xTALbT9QAAZAkKAECWoAAAZAkKAECWoAAAZM3wqgerRwLAWGYYFAQCABiLrgcAIEtQAACyBAUAIEtQAACyBAUAIEtQAACyBAUAIEtQAACyBAUAIEtQAACyBAUAIGuGaz1YFAoAxjLDoCAQAMBYdD0AAFkzbFEA2Kosn6V3N5t3j3UmcEIEBeBO6MWCXmgAcnQ9AABZWhSAQ/NrHk6IoAAcgfEBcCp0PQAAWdMNCl3X1S9KH22apq7rruuOc3IAcDdMOiis1+utD5Vl2bZtURSLxaIXIACAEU13jELXdVVVDdsMmqYpkukXy7IMbQ8HPTkAuBum26KwXq+3Vv9t21ZVFe9WVRWiAwAwuukGhaIouq4ry7Isy95whDRA1HWd66EAAG5o0kGhKIrVarVarYqiWCwWex5SXt1tlgAATth0xyiki0CGpoWmafbpZbB6JACMZeotCtHWgY0AwK2aaFAYXsgQxzb2EkO4OOKgJwcAd8ZEg0IYohg7GsKNEBSaplmv1yErhLkWXPUAALdkumMUVqvVYrEIEysVRbFcLkNQqOt6uVzGsY1xOwAwunLiQ/9Cy8HWKLB1nqWynHqJgLJ8dvRFoaZwDszS/Kqh6bYoBDtaCzQkAMBtm+gYBQBgCgQFACBLUAAAsgQFACBr6oMZgVNXls+OfQrA9QkKwK1zISKcrhkGhdxqkDO7sBUADmCGQUEgAICxGMwIAGQJCgBAlqAAAGQJCgBAlqAAAGQJCgBAlqAAAGQJCgBAlqAAAGQJCgBAlqAAAGTNcK0Hi0LBcVlXGuZkhkFBIICjs640zIauBwAga4YtCgD7GHaRaAiBIUEBuIuGmcDQCthK1wMAkCUoAABZggIAkCUoAABZggIAkOWqB+BGXCwA8yYoADdl+gGYMV0PAECWFgWAvzJXIwzNMChYPRK4BnM1wlYzDAoCAQCMxRgFACBLUAAAsmbY9QDcKj33cKcICsCVuRYA7g5dDwBAlqAAAGQJCgBAlqAAAGQZzAjs4hoHuOMEBeASrnGAu0xQgFux9Ye4GpNBOX0AAAZhSURBVBc4OYIC3JZeLNCGD5yiGQYFq0cCwFhmGBQEAu4s/R3A6GYYFGasLMt5x6CTLuAePQs/Kopddfal1fw+OeCq/R1jZYuT/uwuNe/SFXMv4LxLdwCCAozm5r/dL63mb2Pcg7EUwA6CAtAnK1yPrh9mSVAAXqBiu4nRm2eED45OUGD+rtf3v/uQUc7kMF/3mgduIr574cZRamh9QxyXoMCdcNW+/6HRRwMc5uveT8+biO9eWf5os3lXDc3ddKpBoWmaoijquq7repQnvN6w2GsPpj3wKFylG+XAi3riR0Xxn9d4uespy3L3y+Vqr3l/fMcq3dWzwiWXumReZc6f3bUPPJXSzc/pBYWu6xaLRVVVRVG0bbtcLkNo4KqO0vd5jRe9pfMMT7v/937vx+UNXz09h90vuvvlNBgc0jTf7d5f0RG7SJir0wsKISV0XVcURdM0bdsKCtd2lL7Pa7zo6OcZnnDEKv/a5wA3p4uEW3V6QaG46HcoLoJC13VjdUAc0u5xbdfoRB/FPL5i5lEK5uGq/9N3b9/n0QPojfEMZN+5OrGgEBoSerHgSkHhNgbA33xCvbJ8tjsZDB8dqw1/x+Fl+aOb55V93s90n7G+AX1nMRFX+p9+sdsR+puueklOr1/sqnOAjtJFco32SK7hxAZrhAEK6TmXZRl7Ior8ilAAcBinVbFe6sRaFLZKmxNm9vEAwHH9zbFPAACYrhMLCqHxIHY0pBsBgNGdWFAoiqKqqsViEW7HaZeOeD4AMGOnFxRCc0JZlmVZtm27Wq3iQ03TNE3Ta284XV3XNU1T1/VwooiwfTYlHUa9eRRwxh9f/OMcluJ0S7d1RpZcccLFVqc1icuOAg4fOrkC7jjVYb1wcqU7ss1pWq1Wq9UqvVsURVVVYcbG5XJ5tDMbyXK5TEuUflLhbtheVdXxznEcoSDppzmPAuZKMYPS9f4451G68B2S/h1u8sXpvQO9o6bp0gKmj55cAbeWLn0orRROrnRHd6pBoSf9bxz+CI56OiPo/WXHu73SnfpfeWwQ6n1DxR1OtIDhOyjcTr/C5lG69I9zBqVbrVbDmnKzszjp7fSznqZcAcPGrXdPqIC50kXhod7X6amUbiJOvkINhj9JT+Ibaofhf+nw19z7ZXPqf+XhP3DvK3gGBdzxnTW/0sW7J1q61Wq1XC57f4ebfHF6ASJEpYOd7TXsKODwd/bm1AqYK11QXYglPa3STcQc3qDhJz2P3odULFHu//Ypiv97e0Hh1AsY/yCXF+JDMyjdJuktij/mwvZTL92e9Wjvh/jwwMnafZ6xXCdawOFJph9Z/ChPtHTHNYcJl7Y6xbFUW4XJKIudQ3VOUdM06/V6Nh/TUJgztCiK9Xrdtu1mRlOBdV1XlmW8+CgdUHxHxLbu2ajrer1ex49yHgXsjXaP5lG6Qzq9qx72NI9rJuu6DqtlzqmaKYqi67qZ1Z1Dy+Wy67qu60Ix55TzQgYKPzWWy+VisZhx4Ju9pmnKsgwpYR5fm0FZlsvlck4lOqLZBoUZCOtWrFar+X0LxwkwgqIoFovFzP5Lp8mgSpYjOXWhILE4oZizKd0+wo/veHfrSnWnoq7rtm1Ds3wswgwKGP9KwzdMaNULRZhB6Q5vDkFhltM1xsWuegXpVTld151iM1rTNCHsx6BQVVWocmZQwOEfZPximkHphmKhZla6XHGGq9ce9LTGE7r/NptNr7lrBgWs63r4DRODQrrnKZbuCI4yMmJ06fiUkxtCNRQv/F29aPPi1Wg7Lh0+LWkp5lHA3OWR8yhdkbk88tRL1zvhHcVJ34HidGaMKLZd1jH8ktmcZgF3/L2lgxk3p1m64zrtCjWVpp/T+noaClmnpzdRRDCPizt6H9k8Cph+dsPB8yddut4AsdmUbvjVkStO7x048Hle2zAoDIWHTrGA+weFUyzdcZWbGQ0ou1O9TcNeiZmZQQF3/EEq3QnJFWf2XzjzLuC8SzeuWQUFAGBccxjMCADcEkEBAMgSFACALEEBAMgSFACALEEBAMgSFACALEEBAMgSFACALEEBAMgSFACALEEBAMgSFACALEEBAMgSFACALEEBAMgSFACALEEBAMgSFACALEEBAMgSFACALEEBAMgSFACALEEBAMgSFACALEEBAMgSFACALEEBAMgSFACALEEBAMj6f869v9gM/SyaAAAAAElFTkSuQmCC\n",
      "text/plain": [
       "<IPython.core.display.Image object>"
      ]
     },
     "metadata": {},
     "output_type": "display_data"
    }
   ],
   "source": [
    "m_min=0\n",
    "m_max=150\n",
    "h_mass_el=ROOT.TH1F(\"h_mass_el\",\"Mass of electron pair\",100,m_min,m_max)\n",
    "h_mass_mu=ROOT.TH1F(\"h_mass_mu\",\"Mass of muon pair\",100,m_min,m_max)\n",
    "\n",
    "\n",
    "\n",
    "for i in range(mytree.GetEntries()):\n",
    "#for i in range(100):\n",
    "    mytree.GetEntry(i)\n",
    "    for ei in range(mytree.electrons_size):\n",
    "        for ej in range(ei):\n",
    "            if mytree.electrons_charge[ei]* mytree.electrons_charge[ej]<0:\n",
    "                e1=  ROOT.TLorentzVector()\n",
    "                e2=ROOT.TLorentzVector()\n",
    "                e1.SetPtEtaPhiE(mytree.electrons_pt[ei],mytree.electrons_eta[ei],mytree.electrons_phi[ei],mytree.electrons_e[ei])\n",
    "                e2.SetPtEtaPhiE(mytree.electrons_pt[ej],mytree.electrons_eta[ej],mytree.electrons_phi[ej],mytree.electrons_e[ej])\n",
    "                h_mass_el.Fill((e1+e2).M())\n",
    "\n",
    "\n",
    "c1=ROOT.TCanvas(\"masses\")\n",
    "c1.Draw()\n",
    "h_mass_el.Draw()"
   ]
  },
  {
   "cell_type": "code",
   "execution_count": 7,
   "id": "e23e920e",
   "metadata": {},
   "outputs": [],
   "source": [
    "#Let's take a step further - a bit less monke\n",
    "\n",
    "#1 Classe \"particella\"\n",
    "class particle:\n",
    "    def __init__(self, pt,eta,phi,e,charge,flavor):\n",
    "        self.pt=pt\n",
    "        self.eta=eta\n",
    "        self.phi=phi\n",
    "        self.e=e\n",
    "        self.charge=charge\n",
    "        self.flavor=flavor\n",
    "        self.p4 = ROOT.TLorentzVector()\n",
    "        self.p4.SetPtEtaPhiE(pt,eta,phi,e)\n",
    "        \n",
    "#2 Metodo per estrarla:    \n",
    "def get_particle(tree=mytree,var=\"muontracks\",index=0):\n",
    "    flav_dict={\"muontracks\":13,\"electrons\":11}\n",
    "    p= particle(getattr(tree,var+\"_pt\")[index],#getattr chiama dall'esterno un attributo con il nome preso come stringa\n",
    "                getattr(tree,var+\"_eta\")[index],\n",
    "                getattr(tree,var+\"_phi\")[index],\n",
    "                getattr(tree,var+\"_e\")[index],\n",
    "                getattr(tree,var+\"_charge\")[index] if hasattr(tree,var+\"_charge\") else 0,#nota: questo per i jet fallirà se non faccio qualcosa!\n",
    "                -1*getattr(tree,var+\"_charge\")[index]*(flav_dict[var]) if hasattr(tree,var+\"_charge\") else 0)\n",
    "    return p\n",
    "\n",
    "def get_collection(tree=mytree,var=\"muontracks\"):\n",
    "    particles=[get_particle(tree,var,i) for i in range(getattr(tree,var+\"_size\"))]\n",
    "    return particles"
   ]
  },
  {
   "cell_type": "code",
   "execution_count": 8,
   "id": "b41d3fe6",
   "metadata": {},
   "outputs": [
    {
     "data": {
      "image/png": "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\n",
      "text/plain": [
       "<IPython.core.display.Image object>"
      ]
     },
     "metadata": {},
     "output_type": "display_data"
    }
   ],
   "source": [
    "are_os = lambda x,y: x.charge*y.charge<0 #Uso lambda per vedere se sono segno opposto (opposite sign)\n",
    "are_ss = lambda x,y: x.charge*y.charge>0 # o same sign (ss) -> quest'ultimo è ridondante in realtà!\n",
    "\n",
    "h_mass_mu.Reset(\"ICES\")\n",
    "\n",
    "h_mass_mu_ss=h_mass_mu.Clone(\"h_mass_mu_os\")\n",
    "\n",
    "\n",
    "for i in range(mytree.GetEntries()):\n",
    "#for i in range(100):\n",
    "    mytree.GetEntry(i)\n",
    "    muons=get_collection(mytree,\"muontracks\")\n",
    "    electrons=get_collection(mytree,\"electrons\")\n",
    "    jets=get_collection(mytree,\"jets\")\n",
    "   \n",
    "    for mi in range(len(muons)):\n",
    "        for mj in range(mi):\n",
    "            if(are_os(muons[mi],muons[mj])):\n",
    "                h_mass_mu.Fill((muons[mi].p4+muons[mj].p4).M())\n",
    "            else:\n",
    "                h_mass_mu_ss.Fill((muons[mi].p4+muons[mj].p4).M())\n",
    "            \n",
    "c1.Draw()\n",
    "h_mass_mu.Draw()"
   ]
  },
  {
   "cell_type": "code",
   "execution_count": 9,
   "id": "efcae151",
   "metadata": {},
   "outputs": [
    {
     "data": {
      "text/plain": [
       "<cppyy.gbl.TFitResultPtr object at 0x5588606ec190>"
      ]
     },
     "execution_count": 9,
     "metadata": {},
     "output_type": "execute_result"
    },
    {
     "name": "stdout",
     "output_type": "stream",
     "text": [
      " FCN=93.3245 FROM MIGRAD    STATUS=CONVERGED      68 CALLS          69 TOTAL\n",
      "                     EDM=3.97392e-08    STRATEGY= 1      ERROR MATRIX ACCURATE \n",
      "  EXT PARAMETER                                   STEP         FIRST   \n",
      "  NO.   NAME      VALUE            ERROR          SIZE      DERIVATIVE \n",
      "   1  p0           2.67172e+03   1.65904e+02   4.74413e-01  -9.61526e-07\n",
      "   2  p1           1.15034e+01   6.32761e-01   1.81085e-03   2.17712e-04\n"
     ]
    },
    {
     "data": {
      "image/png": "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\n",
      "text/plain": [
       "<IPython.core.display.Image object>"
      ]
     },
     "metadata": {},
     "output_type": "display_data"
    }
   ],
   "source": [
    "c1.Draw()\n",
    "h_mass_mu_ss.SetLineColor(ROOT.kRed)\n",
    "h_mass_mu_ss.Draw(\"same\")\n",
    "c1.SetLogy()\n",
    "\n",
    "m_min_fit=10\n",
    "bkg = ROOT.TF1(\"expo_bkg_1\",\"[0]/[1]*exp(-x/[1])\",m_min_fit,m_max)\n",
    "bkg.SetParameters(1000,20)\n",
    "h_mass_mu_ss.Fit(bkg,\"SR\")"
   ]
  },
  {
   "cell_type": "code",
   "execution_count": 10,
   "id": "8ef41667",
   "metadata": {},
   "outputs": [
    {
     "data": {
      "text/plain": [
       "<cppyy.gbl.TFitResultPtr object at 0x5588608ed950>"
      ]
     },
     "execution_count": 10,
     "metadata": {},
     "output_type": "execute_result"
    },
    {
     "name": "stdout",
     "output_type": "stream",
     "text": [
      " FCN=57.3184 FROM MIGRAD    STATUS=CONVERGED     700 CALLS         701 TOTAL\n",
      "                     EDM=7.63623e-07    STRATEGY= 1      ERROR MATRIX ACCURATE \n",
      "  EXT PARAMETER                                   STEP         FIRST   \n",
      "  NO.   NAME      VALUE            ERROR          SIZE      DERIVATIVE \n",
      "   1  p0           8.30660e+04   1.86253e+04   1.00268e+01  -1.72524e-08\n",
      "   2  p1           1.79480e+02   4.82460e+01   1.21713e-02  -2.47416e-05\n",
      "   3  p2           2.65699e+01   6.01817e+00   8.20892e-04   1.55309e-03\n",
      "   4  p3          -2.20780e-01   4.67446e-02   1.17925e-05   2.54151e-01\n",
      "   5  p4           6.28440e-04   1.92784e-04   1.10056e-07   3.29694e+01\n"
     ]
    },
    {
     "data": {
      "image/png": "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\n",
      "text/plain": [
       "<IPython.core.display.Image object>"
      ]
     },
     "metadata": {},
     "output_type": "display_data"
    }
   ],
   "source": [
    "#Forse si può migliorare un po'...\n",
    "m_min_fit= 10\n",
    "bkg2 = ROOT.TF1(\"expo_bkg_2\",\"[0]/[1]*exp(-([2]*x+[3]*x*x+[4]*x*x*x)/[1])\",m_min_fit,m_max)\n",
    "bkg2.SetParameters(1000,20,1,1,0.1)\n",
    "c1.Draw()\n",
    "h_mass_mu_ss.Fit(bkg2,\"SR\")"
   ]
  },
  {
   "cell_type": "code",
   "execution_count": 11,
   "id": "0ca12a52",
   "metadata": {},
   "outputs": [
    {
     "data": {
      "text/plain": [
       "<cppyy.gbl.TFitResultPtr object at 0x5588608fd610>"
      ]
     },
     "execution_count": 11,
     "metadata": {},
     "output_type": "execute_result"
    },
    {
     "name": "stdout",
     "output_type": "stream",
     "text": [
      " FCN=125.874 FROM MIGRAD    STATUS=CONVERGED    1808 CALLS        1809 TOTAL\n",
      "                     EDM=6.02375e-08    STRATEGY= 1      ERROR MATRIX ACCURATE \n",
      "  EXT PARAMETER                                   STEP         FIRST   \n",
      "  NO.   NAME      VALUE            ERROR          SIZE      DERIVATIVE \n",
      "   1  p0           1.62564e+05   1.79401e+04   2.06348e+01  -3.38590e-08\n",
      "   2  p1           1.62479e+02   1.38157e+01   9.52488e-03  -9.46464e-05\n",
      "   3  p2           2.22225e+03   6.76857e+01   3.58940e-01  -4.43403e-06\n",
      "   4  p3           9.07507e+01   8.02248e-02   4.34658e-04  -4.43767e-04\n",
      "   5  p4           3.05632e+00   1.02285e-01   5.28936e-04   1.11500e-03\n",
      "   6  p5           3.78699e+01   1.94073e+00   5.76919e-04   1.40898e-03\n",
      "   7  p6          -6.15491e-01   2.98235e-02   7.28664e-06   7.94222e-02\n",
      "   8  p7           3.16643e-03   1.59727e-04   7.75694e-08   5.18047e+00\n"
     ]
    },
    {
     "data": {
      "image/png": "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\n",
      "text/plain": [
       "<IPython.core.display.Image object>"
      ]
     },
     "metadata": {},
     "output_type": "display_data"
    }
   ],
   "source": [
    "sigbkg = ROOT.TF1(\"sig_bkg\",\"[0]/[1]*exp(-([5]*x+[6]*x*x+[7]*x*x*x)/[1])+[2]*1/([4]*TMath::Sqrt(2*TMath::Pi()))*exp(-(x-[3])*(x-[3])/(TMath::Sqrt(2)*[4]*[4]))\",m_min_fit,m_max)\n",
    "sigbkg.SetParameters(1000,20,1000,90,10,1,1,0.1)\n",
    "c1.Draw()\n",
    "h_mass_mu.Fit(sigbkg,\"SR\")\n"
   ]
  },
  {
   "cell_type": "markdown",
   "id": "78d85c43",
   "metadata": {},
   "source": [
    "# Esercizio #1 \n",
    "\n",
    "Proviamo a stimare il numero di eventi sotto il picco con il fit in due modi diversi : fit s+b, fit b.\n",
    "\n",
   ]
  },
  {
   "cell_type": "code",
   "id": "78d85c432",
   "metadata": {},
   "source": [
    "# Esercizio #1 \n",
    "#fbkgonly = ROOT.TF1(\"fbkgonly\",\"[0]/[1]*exp(-([5]*x+[6]*x*x+[7]*x*x*x)/[1])+[2]\")",
    "#una volta con i parametri presi da un fit, una volta coi parametri presi da un altro",
    "#fbkgonly.SetParameters()",
    "#fbkgonly.Integral()",
    "#e confrontiamo i valori degli integral",
   ]
  },
  {
   "cell_type": "markdown",
   "id": "23506d72",
   "metadata": {},
   "source": [
    "# Esercizio #2\n",
    "\n",
    "\n",
    "Definita la nostra selezione (es. massa >40 GeV) proviamo a studiare le altre features della muontrack:\n",
    "\n",
    "chi2 -> chi2 del fit alla traccia\n",
    "dz -> parametro di impatto lungo Z\n",
    "dB -> parametro di impatto nel piano xy\n",
    "isodeposits -> depositi calorimetrici intorno al muone"
   ]
  },
  {
   "cell_type": "code",
   "execution_count": 12,
   "id": "e7ef0cef",
   "metadata": {
    "scrolled": false
   },
   "outputs": [
    {
     "data": {
      "text/plain": [
       "16"
      ]
     },
     "execution_count": 12,
     "metadata": {},
     "output_type": "execute_result"
    },
    {
     "name": "stdout",
     "output_type": "stream",
     "text": [
      "***********************************************************************\n",
      "*    Row   * Instance * muontrack * muontrack * muontrack * muontrack *\n",
      "***********************************************************************\n",
      "*        0 *        0 * 1.0335342 * 0.0252492 * 0.0002856 * 1.0729610 *\n",
      "*        0 *        1 * 1.0741999 * 0.0242608 * 0.0031903 * 2.9965186 *\n",
      "*        1 *        0 *           *           *           *           *\n",
      "*        2 *        0 *           *           *           *           *\n",
      "*        3 *        0 * 0.7568610 * 0.0140937 * 0.0177467 *         0 *\n",
      "*        3 *        1 * 0.0214010 * 12.813911 * 0.0310324 *         0 *\n",
      "*        4 *        0 *           *           *           *           *\n",
      "*        5 *        0 * 0.6926183 * 5.362e-05 * 2.051e-05 * 0.6069132 *\n",
      "*        6 *        0 * 1.0029804 * 0.0005141 * 1.299e-05 *         0 *\n",
      "*        6 *        1 * 0.4243881 * 0.0052267 * 0.0001941 * 1.2594964 *\n",
      "*        7 *        0 * 1.0884974 * 2.104e-05 * 7.020e-06 *         0 *\n",
      "*        8 *        0 * 0.8126785 * 0.0014560 * 0.0008826 *         0 *\n",
      "*        8 *        1 * 1.0747882 * 0.0026772 * 0.0009806 *         0 *\n",
      "*        9 *        0 * 1.5969889 * 0.0024863 * 0.0006455 * 4.6017713 *\n",
      "*        9 *        1 * 1.0764035 * 0.0337559 * 0.0293779 * 2.1718206 *\n",
      "*        9 *        2 * 1.2282214 * 2.4580097 * 0.0150685 * 4.3621826 *\n",
      "***********************************************************************\n"
     ]
    }
   ],
   "source": [
    "mytree.Scan(\"muontracks_chi2:muontracks_dz:muontracks_dB:muontracks_isoDeposits\",\"\",\"\",10)"
   ]
  },
  {
   "cell_type": "markdown",
   "id": "494d3aaa",
   "metadata": {},
   "source": [
    "# Esercizio #3:\n",
    "\n",
    "Proviamo su questo campione \"mixed\" di dati"
   ]
  },
  {
   "cell_type": "code",
   "execution_count": 13,
   "id": "12b63cf4",
   "metadata": {},
   "outputs": [],
   "source": [
    "dataFile= ROOT.TFile(\"Data.root\")\n",
    "#Nota: io l'ho scaricato in locale - potete fare lo stesso o usare il wget as you prefer :)"
   ]
  },
  {
   "cell_type": "code",
   "execution_count": 14,
   "id": "f3be82b9",
   "metadata": {},
   "outputs": [
    {
     "data": {
      "text/plain": [
       "273120"
      ]
     },
     "execution_count": 14,
     "metadata": {},
     "output_type": "execute_result"
    }
   ],
   "source": [
    "datatree= dataFile.trees.events\n",
    "datatree.GetEntries()"
   ]
  },
  {
   "cell_type": "code",
   "execution_count": 15,
   "id": "1158ccad",
   "metadata": {},
   "outputs": [],
   "source": [
    "h_data_mass_mu_os=ROOT.TH1F(\"h_data_mu_os\",\"Mass of muon pair, data\",1500,m_min,m_max)\n",
    "h_data_mass_mu_ss=h_data_mass_mu_os.Clone(\"h_data_mu_ss\")\n",
    "\n",
    "for i in range(datatree.GetEntries()):\n",
    "#for i in range(100):\n",
    "    datatree.GetEntry(i)\n",
    "    muons=get_collection(datatree,\"muontracks\")\n",
    "    electrons=get_collection(datatree,\"electrons\")\n",
    "    jets=get_collection(datatree,\"jets\")\n",
    "   \n",
    "    for mi in range(len(muons)):\n",
    "        for mj in range(mi):\n",
    "            if(are_os(muons[mi],muons[mj])):\n",
    "                h_data_mass_mu_os.Fill((muons[mi].p4+muons[mj].p4).M())\n",
    "            else:\n",
    "                h_data_mass_mu_ss.Fill((muons[mi].p4+muons[mj].p4).M())\n"
   ]
  },
  {
   "cell_type": "code",
   "execution_count": 16,
   "id": "a7c3f913",
   "metadata": {},
   "outputs": [
    {
     "data": {
      "image/png": "iVBORw0KGgoAAAANSUhEUgAAArgAAAHYCAIAAAApvgy/AAAABmJLR0QAAAAAAAD5Q7t/AAAgAElEQVR4nO3da7aiuhaA0eSO0y9iZ2o3A2hGVWcMLcv9sTQ75oFBUSB8c9Q4RxEwQbZZ5qmdcwoAACDnf1snAAAA7BeBAgAAKCJQAAAARQQKAACgiEABe2et1VprrY0xM7sNwyC7WWu/lLL1DMNgjNFab52QY3h6M7xP7roj3kvA6ggUcBjTNM28Oo6jPDjcl/swDOM4zucOkU9fLrmLXriXrLWHuwOBeQQKOJJhGLLbD/3VLIm/Xq+MVa7UdV3XdVunIsNae7lcDn03AikCBRyJrzaIlAKIQ5Afx5+uS28Jv9qBb/pv6wQAVeQXZKnCWbb3fZ+NJHw1sjFmpjz2Zc+b+8wcuFY0kD3bWm9Rn8fX3rHyOsvntfT871yEmmPDACXdc6bBovImBPbIAft2vV6VUl3X9X2vlOr7ftEO6T3fdV10Bjlwfp+0rlsaC2oSXzpz+r6l88ie1+s1SoZkNrsxujjZ7ERZeJpH2SHdMz1/xOduJqmla5ImI7pWPgGViSklL0xVei+lH2WUsPQkMwemGQd2i0ABexcWdVEJIXyZl365R1/9vhDKFgASavh9wvImOo8v7WpSnp7ZH+jT7M9cOlV4bN/32Ygh3OgLsPpAoZTHcB/ZKP+Vd8xe0lSYVLka/vzZyMlfseyljrb4JL1WBkcZj66q7JN+lOn1CTfKxQnPP3MgsHMECti7sKjzv2hDvtiIAgX/5Z6eLdyY/W0d7pM9jy8sZ1KeLbfSQiI9ecoXYGmxnd0YXYSngUI2j/5N03ec3y3li94wqZWfRSmmSU8+k4CSbOLD8j7cEn2U6UbJUbhFzh9d/+xGYLfozIgjkcbdsOuiNP2W+sDLD7v0DKFsv4fr9RodGL2FtfZ6vdb0Zog6WsppL5dL6cAZXdeF7yiPsxuXkvREWfYpjxrdo5/d9T1J06TKVfUbjTF930dZkKdPey9ma/ifkk4t0bHpe0nCopzWXOqXDwT2g0ABRyJfuGGPRdmSLauMMTKRUXqGkJRV0ai2sMeZPJimyRhT2icle6Yt7u8UEtljVyx10lNJ+qOC8+V3TC9+tGUYhmiLtbY01CWy7oWN4sJswmpGXlTehMCeESjgYKJv8KdjC6Wfub5LSx3/dX+5XGSfYRiyv6GnaZJ95Nt/Pp3rDnPYSuWv+TfPH1Xq+HkqtdavVb1UmqmOyn5wUcLqJ32KbkIm18KxECjgYMLWh/l2B6VU+IUuvcmyFdTOubAn4DiOl8slLCqGYXBBe/Y0TeM4MsXv6mQebpmn0n9ee5hbSWZ09gnrui7syPn0QLkJ5cDSTQjsFoECDiZsfZhpd1BBE770x7HWppXA4c7WWtnT1x9EcYCEC2FUMfN799O/xb/j0/Ui4fXxrQzSb9F/Xp9792x9Rpowdf+gpZdiOMfDU3Kg3IRyIO0OOBwCBRyPFNLW2vl2B3n1aVGdtiMMw+DfQt0rnKPeCZURQLrbTkKHmtIxu+UdaRkZ1gn5x9EH+oUrlr5FeH18wl4u43fyoQOvIVDA8UhB4n+rvXBsSNoR5r/Kp2laWkjI/mm1hP9tuuhsb0o7AUQ7SHqiChIfiq31Izi9GmHN0MxRr72d/Hyf/2Tl/kkjxZpklHpZPg0LqFTAwXx1MCawXHYmAH8Dh8Pro3kUwmkGRBhV+AOjSXLC3cIESBpkh8pZhsLdoibtNC/zFyGdS6p+YynxqjzhUimP2XkOarIQfudE5/efrL/O/oMIk5rOf/X03dMD59OWdonwea9MmM9COttSemD2SgI7RKCAvcsGCjMz/6RlZPTVnM5TlK2WSEOQSM2EOemB6VGlcm4+a/Ub065zfgrC7NRG0Z7pDi8HCmlKsjMRRQkIj8q+XendKz+mbKqiqZNKKY8S5h7DjuyBsnN6ILBb2rGyLZrmx7uH3eLSXpDhsPhSB7rsqV5Ow5f5zM7Xe38oqVprdS8gn76FpDB81fcfXJqk+i6lNRkvJUwFVzV7nsqbENgnAgUAHxcGCt8kBTOFMfAOlpkG0KZhGNLukwCWYtQDgDYZY6gxBd5H0wOAj9uq6QHA+wgUAABAEU0PAACgiEABAAAUMeoBALAy6ZWCnavse0CgAABYHx3gdq4+mKPpAQAAFBEoAAB2oX4B9xnDMDAX57oIFAAAu7DWTJqlFcBDqwQlJ0GgAAA4Hab3rkegAADYEWvtMAyLfvHLIcMwpIfIqaK1weRxuGasf9P6Zgt/krCxIz1J+C7hgZVvkU3STH4/Yqv1rQEArXqtcFFKdV3n/6uU6vv+6VF+Z//Av7s/m38pOkTO3/d9dIbr9fpCaru76L26rvNHXa/Xmosju2WT9MIlKqW/ds/X3gAAgJKXA4XwwKiIzZIC1ReWvnz1j335GpXQ4VFS7mZfmk+tP0pO7p9K5JHNRWWgEF2K8GkaNDw9W+ktKvek6QEAsBdhrYAxZpqm+f2l7t1XzhtjwsOdc+EWv3/EOfdaHb4/uTzIJuNlPuiJHodvZK11n5+vgkABALAXS4tYa20YW6jHUMP3PNBaXy6XmfP43fYwp6RELVHQ47f3fT9Nk9Z6UY+KdxAoAAAaZK29XC7WWmOM1NWX9tRaj+P4dLcvCys5wsfDMLh768Y4jl+IbJjCGQBwVMaYaNYE31rhRyXI01Ljgmy/Xq+rtBc8VdPG4esPfJJ8HYOMofDjLMJg6DPpVYoaBQDAcUl56YvJmar4+Vp6X35H4cUqfOxira2ZDEop1XXdOI6SDDnKN6mM4xj2UVArdYmY81pvSQAASl4rXNTjcINw7MCMqKNfeFS6XSUjJ10wWlIFYymfDnyI9lGFERYzyXt6/jBVfnvUJ+MLwyO12017DACgDVp/u3Ap/baOtmfr8+d3+2jyao5KDyxtX6T+MyJQAACs7PuBApZa8Bm9VmWxW0op7k0A2Nxa3+pR1f2H3mXp+9ZM3bjVySvVX73Wgj6ttZ/CatuUAMBpUaOwf/WfEcMjAQDr28PMRVgFgQIAYH3UKOxcfSTXbKCQXgLuWgAAlmo2UCAsAADgfczMCAAAiggUAABfMgyDznnnhN9Zo+EFwzBEizmZhJ+kOdruj/ILYKZTUJe2e2tdmWabHgAA+zQ/i0BKlj7KNijvNkpQSsmyDjMpDNevmqYpmptZ3TMu28dxHMfRXwRjjBwSbfdkh3Vy8olpHDaklHLyDwCwkVLhUr/SQShcOuEQfJE/sxCDLCohj0t7qmCVB7kIMhdT+DjaTUQLW2TVX9J2mx7Wq9oCAHyB1loq4eVLO1xJ2b863Pmn4U92f2z4nW+t9Ru/UwNhjPFFdZa1dpqmsGGilDDfshCuSRGtmdn3fVR5MI7jfAKWqQwojkL56oTmsgYAR1EqXKT0uib8Uer+Q9nv6R7rIfyqj+lLfvv1epXd0u0q+fH9Oapco6Ae52mWVEn2S8mLLkK4W1TjIu/7tBqmPgCgjwIA4KukhiDk7lFC3/fyQ3kYBmnjV0oZY/xjEf4WD7f47VKL4BeB9D0El3aP+ISoPsCnWdJ2uVyiyZX9pfCVBNkODcIY03Vd1I/yTQQKAICvcuV5bmqaBrJlZFgnH26UgnMcR3k8M0bga8ZxDOMVY0x4QZxz0uzik+pbW8ZxlIinFCVIi8bM5X1Nu30UAAAn5isnrLVSMI/j6Ls+bEUCmhe6SgzDIFUF8/uoe/WJ79jxfn4JFAAAh+cbLDwVdACUGQukpT9qxfgyKe/DLdIlM91TWk+yJ4mGPvpWhmEYJDzytQ4+WnpLZV+Go1BKSZ1LWvOyddIA4CxKX7lPOzNGXfzC0YCyMerHF3Vm9J0Ha7Z/msp1Zozy6O65K6U8Gh7pd1OPwyPTN1qxM2Nrxadi1AMAbG0+UEhJmVcKFFwwIGImUIg6KvpjozedmdtgXel7lQrvKIU+5VGO0oyn25++V5i8yow8dK1sgNZacq+kxqat3AHAIUT99lfhhzA83U3lOgG83Dnga15IeeU1yar/jNoNFJRSWhMoAMD3fSJQwLrqPyM6MwIAgCICBQAAUESgAAAAitqcmVHGnrr7A0GDGQAAS7VZoxCN/VDqL1ECAAAvaDNQSGn9b+skAMDZyVrP6XpFsjz0HhZi+CZZI7sm19kxkKXD/WLca60L1X6gQIgAALuSFmDhhMRnINMzy2TSsgLF/M7p9SkdPgzD5XKx1lpr5cH7qW0/UFBKOfdn6yQAAG6erhndPFnxwTknK1CoZN1LIfMppatyy87Zw2VpSgkUuq5Lj33BKQIFAMBOyNzDYXAgSxmF+8gPbhHWuofbwyYMWfNJ2i+iQ/ZpmqYwMuj7vhQtZReVHscxvGLOOTlbuBSWUsqHEW9qPVCYrc8BAHxf13VhuThNU1S0Xy4XWSXher2GZerlcum6TtaRUsHP6GmaLpeLMUYWQYiK4X0Kr0C2cUEpJV0QsnmR2Ch6VWoRVu+j0NrKScovCuWf34Y8/N0sTQBwMqXCRSnV9324XpF/rO5LKEXLPoU7h2sslVZZdLnVmPZGKgnksV/5qbRzuryTL8F9ZUO63S8zXTptfQDQ8jwK6rbY9I/WP0oppeipAADbk/oDaSxI2x3kt7X/oRw1Uti76Cd4WCeR1tXvjW9Dkadd1y3tzhnWykhri3/qI4ZhGMZxfL9ypc2mh8ew61ajwPAHANiJruukAEvbHdRjSW+M8ZGE1lp68ocbD0qqCmRF6Rc6VURdHCTO8BUJwgdkbya1zRqFlHN/CBQAYCdkFF/U+U5IURcWhGFPvfDn8hfS+SHRytHjOC6tBQkXmI46dUZ7vt+1s80aBQDAnknpFfXeF8MwTNMU1qtnfxNHYyyPReIk/1gFcU+p92Ko73uffWmFkcsYXbq1YikCBQDABuQ3dPp7V5oVLpeLb8WXkk+KPT82UorG/Y+EzJIcSUYkWgprF542Fsg0DHK4jATxMUF46aZpcmsMj9SrnGU/tNbSldM/V/enWv9j5iUA+AKtVyhcovr5dGN2hwN5P/1hA8TSM9d/Rq0HCkoprQkUAOCbVgkU8FH1n1HjTQ90YAQA4B2NBwoAAOAd5woUqGAAAGCREwUKdFAAAGCpNidcitb2lqf0rAEAYKk2axSCKZz/qmS1DAAAUKnNQCHGYtMAsA/DMOhA5eyBxpjsrAD6UXYO44NKr8wwDLKMVimPJuf9lJwgUKAuAQD2QdYz9Gsfy1TEvkR8rWDruk5WV5K5Gv0SEoeWRjzGGJm22VpbmcdpmpYuSplXuRz1USil3GPTg/zv4SkA4JNKhYtSykcJQkp3eSyLH2YPLL00f8Ij8qtDhfm9Xq9KKVlq0lXnseu66OKE6q/SCWoUAAC7Ef1QHoZBSkFjjPwC9pUKxhjfoFB//miNJWtt2DDhzxz+Ipd9XsnMB8ysoB2m/+l5ZIGodSpXKgOKo1AVNQrUKwDAR5UKF18EZn/phtUG8sNafkPL48oaBdnod/Y7SDgij6Nf5DM1GVuZT1JNglVQA1HaoTIx1CgAAL5E6g+6rhvHcaYzoyydfL1ew8Wf6vnae2OMX1nRGHO9XqWZX7b40672y/vz/LKQ89dElpdca7msNudRyLgvDQUA2JDvpmetlb6N4zi63PdzWM75sr/GNE2yv3TlC5shwt1k6UUfRizIw3acc3Ld5pd0GsdRalBW0XKNwu+EzYQIALAD4Q93iRikPFt9TKMv+MMII2z+lwEX8talPgH7FEZa2R1WD31aDhQU0zYDwJ6M45iO+qs5sH6YX9iZUaKEIRDtJm0c+293kCqEaGMpUJABqCu+e+OBQkqqGVgdCgC+r+u6y+USlnASKEThQrRxviC3AZlswBeT0vPfv53WOnxrScyiRo2tRH01wmBIWiKy+6+mstPjUahg1MPD6IZgo/z7ftoA4CRmCpe0YPYvSQEv/fmjJvaZeRSi3aKu/tFv6/Sl+aEBW0nzG2UkmlNh6RQLbsmoh7neEEektZbcK6W0/vfb9HDvzOjrEmiVAIAPme9qp+4/jtMfvtH20m5LrXWeza2Ykaef0e+eBAoAgHXVF0LYSv1ndKY+CruZeAsAgKNocx4F3ztU6x+/keAWAICl2gwUnHMP7Q6CGgUA+Jb9rJ6AN7UZKBRprdTfrRMBAI07cweF9vpnnKmPwm00CH0YAQCo1WagwHxKAACsos1AQc3WHFCpAABApWYDBQAA8D4CBQAAUESgAAAAis4XKDC0FwCAaicLFNoa2woAwKedLFAQVCoAAFDnfIEClQoAAFQ7X6AAAACqnTRQcOqHBggAAJ46aaAAAABqnDJQcE6zhiQAABVOGSh4tD4AADDrvIEClQoAADx10kDBLyDJgtQAAMw4XqBgjDHGaK2tte+ch8WmAQB46mCBwjAMxhhr7fV6vVwupd0IAgAAWMV/WydgmWEY5IG1tuu690/o1I/WBBYAAOTtqEbBBwHRRqlCCDcaY8ZxzO6/zH06Z3oqAACQpd0+1j6w1l4ul+v1aozxG7XWSqmu66Zp6rouChe0ziRea+3UkgUdtFbOaf2PSgUAwPuyZdOhbd/0YK0dhmGapmi7VBi43x/92lorscIKdQkAAKDC9oGCug9kGMcx3DiOY9gLoeu6YRistRIxTNPU9/06b6+1Yk4FAABytg8UJEpQSkWBgrwUPpYdnHPW2vCllF4y5WJTNUQAAKxq+0DhBfNRggoaLKowkTMAAAU7GvUAAAD2hkDhhhGSAACk9hsoROMhF82wpHNm9nfq552kAgDQqv32URiG4XK5SL9FGeZwvV4rj21sDCsAAFvZb6BgjOn73i/o0Pf90z6ML3KO/owAAGQdYAKpp4MhQ4tnZvSHqb9MzggAeFN7MzM2lx+tnVLZ+oG5nGqt1V/FspMAgPe0FyjstzPjO1zOk0PozwgAQKLNQGGxtqI/AADWQqAAAACKCBQeMO0SAAChNgOFpRMuCXoyAgAQaTNQeKEzo1K31aGoVAAAwGszUHiFk/kXqFQAAOAXgQIAACgiUAAAAEUECgAAoKjNQOG1UQ/B4fRnBABAqVYDhRdHPSjFMpIAAITaDBRexMAHAAAeESjk0foAAIAiUMjQmkoFAAAEgcKjoCsDlQoAABAo5Gjt1I8iVgAAnN5/WyfgI7KDIWsHPsSn+qfo4QgAOKs2A4XXYgIAABCh6aEKbRAAgHMiUEg45ydUoMUBAHByurFaeq21FPLvn8ifJKpOIHoAAJRo3VrBSo1C2b1H5ExkQJMEAKBtBAqLaf0vig/SLQAAtIFAoYLWSimnfrJVC4QIAICGESgUSAuT1tF6kjIRk7xEiAAAaF5rfS6kM2N2rejFOU1nbXIu2qjV3+BFOjkCwNnRmfEYXM47p7sFBEno4NSP1DE49eMrGOiyAABoRmuBz2rDIwtnn3sxqF1QVDAAwClRo3Bu97mYbg8eb4Xf7gsAALSCQGG5MD7wrRIJWh8AAA0gUHhX1MQQ1ivQWQEAcHQECmu6dWykdwIAoBWt9bn4bGfGirdX6jaKkr6NAHBC7XVm/G/rBLToPpPj74ZCPwYAAHaOpodVFfo2OvUjMznSZQEAcCwECgAAoKjNQEHnfOetnfuTnWUBAIAjajNQWHkK5/X4NoitEwIAQJXWOmduPOohUjHlM6MhAKAl7Y16aLNGYV/KzRDM+gwA2DkChU+KQoRcuEAzBABgzwgUtkesAADYLQKFb2mryQoAcBIECpuJujFSrwAA2CGmcP4u5/JDIbR2wSAJ5/5o/Y8BEQCAzVGjsLFw4IN/TO0CAGAnCBS+zg+FuFcgRIMkCRcAAPtBoLCRZ30bJVwgVgAAbKu1CaT2NTPjvKfLTzgngQKdFQDgKJiZEevxa0c9u6WoVwAAbIVAYU8kYgjiht+6hG+tfgkAQIhAYR9qlqVm2UkAwNe1OY+Czv3+PlKjUWm6BaVU0BJB3wUAwKe1WaPgcrZO1HJaS7gQBgRUKgAAvqnNQOHAfEBzxMgGANAcAoW9c+qHnowAgK0QKByMTMTk1A8zMgEAvoBA4cDCKEHrfwQNAIDVtTaB1JFmZqwRNTrkRkNo9VdWm7zvwlAIANgMMzPiu6L5FQqdFW4zPT8uLgUAwPsIFI6jLkSlAQIAsCIChaOpmcMRAICVECgcgQ8OciGCc39odAAAfAiBwpFJ3MAsCwCAjyFQOKakAUIGO/iqBa3/+RmgU/RjAABUIlBoRRATRHEAYQEA4GVtrh55Zs79SYMGrf8xvwIA4AXUKJwFUzcCAF5AoHBw0lnB/1Nx38a0IoFwAQBQj0DhxMq9HQEAEAQKrXsMBahOAAAsQmfGtsiqUX7tqPuD32GT6u+GqQMAHM7xahSMMVprrfUwDFun5RjCeRuZwxEAsMjBAgVrrVLKOeecG8dx6+QcwbOFIW5TMwEAkLOjQCFbQzAMgzFG4gMRPkataBpH9ZN2VqD7AgAgtZdAwVo7jmMUBGitpdrgcrkYY5RS8l9rrTHmer1+P50H4JePSusSyrULfl4m/++DKQQAHMf2nRmttcMwTNMUbZcKBncv27TWEh8MwyCHSNCApZz7o/SP76xArwUAwIxd1CgYY/q+jzaO49h1nX/adZ2ECIIoYXVO/RA0AAAi29coGGOk1E87J4bRgDFmHEepe9D3zneuUJeuF/bOK52nEb4xAgCAhbYPFBap7MnYeMH/JsY4AACq7aLpARuSKZjosgAAyCJQQCyKFRgEAQBntt+mh67roukTwr6N87J9FGiPqOfUT3QJJVa4xRBcSQA4jf0GCsMwXC4XGeBgrZ2mqX7iBGKCIr8YhHinv0J4HgBAo/YbKMiYycvlIk/7vmdI5CfItApbpwIAsFN6/z++F82aoLV2irrxWVGNgl9qUimt/mY7M/o1Jx+aHrS+dYR0fz6dZAA4Cq0PULAucoDOjFQkfA1FPgAgst+mh3fQmfGj7h0bAQDtO0CNwgtcztaJ2o3llyKa3Zm5FgDgPNoMFFArDBqCx75TwuO+zxsmmHEBABpDoIAM5/4sqHjQmmmhAaBVBAqYRZMNAJwbnRnxKBgtGaPaAADOp80aBTozLuPcazUH9GoEgOa1GSjg0/LzMul/KuzPqLXS2m+knyMAHBGBAuo4p5xLR0P4iOE2uQJTNgFAWwgUUJa0R7wWB1CXAADH1WZnRrxltr/CbX2HpOnBqR//kvR6dMFLqjA3AwBg59qsUdA5WyeqEc798fUKUdlP30YAaE+bgQKjHr7pIVzQWtFTAQAa0maggO8oTuD4tP6GyRwB4CAIFFBhUX3M4860RwDAoREo4CXBHE3LFoYAABwKgQI+olSREM68FA2bZBQlAOwQgQKeeaG2oHDI81CAjgsAsDNtBgoMj9zMkqjCqR8iAwDYuTYnXGIw5AZmlp2U15l2CQAOqM0aBRwLvRMAYLcIFPBVjJYEgGMhUMB66lp8svM2hkMhqGAAgP0gUMAn0VkEAA6OQAEAABQRKOAzgqkbn++rfvJ9Fxg8CQBbI1DAxnyPBPo5AsAOtTmPQnZ6JSZX2NKzWRYe9lU/su/vB6a1UkqrvyxgDQBf1maNgsvZOlHIe6EiIRwWwRAJAPioNgMF7MhsZwUmagSAnSNQwE7RZQEA9oBAAV/nOytUtAcx/xIAbItAAftQCBqikZP0TgCALyNQwLdUTvCsftTCdof5iIF4AgDeQaCA73oMF2aGO9LPEV9DCxcwg0ABX1Q5SLW8W6mm4eFbnvkc8RIJF4gYgAiBAo4gqodQP/lo4FmIQDEAAEsRKGBr1atCMC0jAHxfm4GCztk6UVhZsV4BWIJKJmBem4ECUzg3IFN/MB8WyHoQM1/6RBVYiBgCUK0GCjiAQuj25mAH5nPEKggRAI9AAQdBnRA+j34wQIpAAccWTd14o7XSmomYAOB9BArYDeeq2h1W6WpAfwWUEUQCIQIF7BINDQCwDwQKaF/8A3HV6gR+fR7X/ARcfLKAIFDA11XPsCQ7Z9sjtPq7Sq0DhQEAzCNQwI449yftds7CUfgOhjwAWQQKaJZTP77CQB5UzrJANcMZ8CkDlQgUcBz0cMTnUa8ARAgU0DipRaipSwh/Yt4ea81AysawgiiwFIEC9qu+C0IaB8ix6fbw9yIFBgA8RaCA/SpWAodtEI/tEXRvBIB1tRkosMw0nvKVDeksC/IS9Q0N48MF6v23dQI+gkWlT+KhysE5vv3xsvBeksfcToBos0YBCD3tyRiNokSrXvh8uSUAAgUcyn1Wx6gu4f7/zHxNwGu4lwBBoADcPB9CWerpwijKE6BqAadFoIA28XMQ89JOCQCy2uzMCNR4qELQxeqEePpnqTzw7R1100IDwEERKKAJ2ZkV5AGNAkhQhQDUo+kBAAAUESgAL8lVVPh1BOj4BqAZBAo4BaZ2hhd1Y6QZAphHoAD8Cnsm+sfhRqoKDoflIoE3ESjg7KhsOBXqD4ClCBQAAEARgQJOpm60ZDQ7QnayhFcqtJnD8YBoucDJESjgFGYqnKmLRgn3BqAIFAAAwAwCBeBFTv1E7QhO/aSNFEtnVqCX/lpWvIz+Q+SjwQkxhTNal87o7JwU8DLewRWPBABQowAAAMoIFIAFataKXFQ7/eXa7NPWnNNqALyMQAHn9dCn3Tk/81I6BVNpUiYmawLQvF0HCsMwZDcaY6y1304NAADns99AwVo7jmMUEGitx3FUSl0uF2PMJgkDamj9L5xeqX7BCD90QmrL452ZrwnAd+0xULDWGmMul0u0XSoYnHPWWufcNE3UK2Axlxvl4JwKWiKc+xPtNjPxTqn1gbl69iZdKJLPCKixx0BBKWWM6fs+2jiOY9d1/mnXddm2CQAAsJY9zqNgjJFmBWlliF4KH6c7AACAFe20RuFNeqGt04smFG4k3zvB9za4Ten4sRuvNBTwVOMDl06I+dpbnOqS4rTaDBTcQlunF193/9Dfb6V+cgburoNLezYAZ9NmoAAAAFZxpECh67pwmIO1NpzxcE8AAAu8SURBVOzbCAAAVnekQGEYBj8k0lo7TVNp1AMdEbAvWqvc9M/Swu1Xoaxt8NY6bIB/paV8yZ/DsZrhv9BvgK4JOJs9jnookTGTfn6Fvu9Lcy7R7QDPPb1JnPstyO/uC07+3Heh9RpA43YdKKTl/TAMwzDIjExbpAgAgHM5UtODR5QAAMB3HDJQAAAA39FmoEBnRmzIr+pUs+fvk9wtetvBz86U7lOzpWCmR15NZ71ddej7fgdD/3a7ug7AJ7QZKDCrEl7kXNjJ8TbZTrKltBDU/Pbbq9XLTQHAHrQZKAAAgFUQKAAAgCICBQAAULTreRRelu26SDcFfNV9ssUnt11wrzr1o/SP3z5/YNSHTut/UXeHcIdST4jbjFL+Va39NFOr9NFLU/UJ9CsEPqrNGgU6M+LTtPqbdl2sLRSdU+Wej3UnoAtkLblWb14x1pDEmbUZKAAAgFUQKAAAgCICBQAAUESgAAAAihj1ABxEeFcHYyJkmueoa6RTPw9btFZKuftDd9vycMjzARqZFD0Omsi9Gr/Fwi6B0diN+XeceesvCNP2neEewHe0WaPAqAesL5jdWfrA/5YE4SiGYDdfVMusz8WSIzhcq79q9l7NjraAKoxu+FBpTRCAU2kzUAAAAKsgUAAAAEUECgAAoIhAAQAAFBEoAACAIoZHArsmox+rdtPxntmRk6lwMKHW/9KjZOPMefzIwLlhgcmAzOjY3/cqDINMF3/ayegDFqNC29qsUWB4JL4sU4g+3nJpkXbbIrs5N1/m/Q6eXG4npen3nTbjwLraDBQAAMAqCBQAAEARgQIAACgiUAAAAEUECgAAoIhAAQAAFLUZKOicrRMFfNXvBAyPN7/fHs7Q4NRPacKG7Euy5bZd69vUC/qf/Ff+/b671rd5Ee67+R3C7anf+RIedwiTtMIcBlqrpd8P9yznXnmYlOLhUgDH1GagwDwK+LKHVafVbXaEeOPjAb//zb56X65aFp725/GzL8zMqZB904cJlD6wUPXLkxasPttBvAj4J88crW3NzA1oUpuBAgAAWAWBAgAAKCJQAAAARQQKAACgiEABAAAUESgAAIAiAgUAAFBEoAAAAIoIFAAAQFGbgQJTOOPUqu92mQs5mst55qV049OTZ9OW36611v+c+qmf8/hhjudsrv1Gmac5evqCd75JtE4ndX7IrNYqmAn78dDF80BnD9nDfNJ7SAMWaTNQYApn7NTy+3BmwmBxm4/ZOa3+PszNXHivufmb74fE+7z955PmovKQ+cmYsxdk/t1XVPPuTOqMBrQZKAAAgFUQKAAAgCICBQAAUESgAAAAiggUAABAEYECAAAoIlAAAABFBAoAAKCIQAEAABQRKAAAgCICBQAAUESgAAAAiggUAABAEYECAAAoajNQ0DlbJwpoilM//r9KKaW1Uz/yL7N3+Aeo9e1AreW/6TkfTn7fIXvy8Ay3x+G/LL893CfaKE/9f7MnDF993PKbKq2VUlr/0/rf46H//IHhS/L4tiV6x+BxfMJ78n63a+3Uj9/Hb/cXULakO0Rv9JDUxwREB6Z5zHqyz8yn9raZtw4v+3xGiq82XcS0GSi4nK0ThbOqv/ecc+5P8djH8zzs6Zxs+d3od3ZO/jn3xz+47eacVn+LCb4f+DQX+ZNkd/jmn+Fe/+Tjj3g7+0kJdq7NQAEAAKyCQAEAABQRKAAAgCICBQAAUESgAAAAiggUAABAEYECAAAoIlAAAABFBAoAAKCIQAEAABQRKAAAgCICBQAAUESgAAAAiggUAABAEYECAAAoIlAAAABFBAoAAKCIQAEAABQRKAAAgCICBQAAUHTgQGEYhq2TAABA444aKFhrx3G01m6dEAAAWna8QMFaa4y5XC5bJwQAgPYdL1BQShlj+r7fOhUAALTvv60TsJgxxhijlBrHceu0AADQOndYSqnr9ZpudGe6CDi1293+N934+3jmWOeU+nvb3x/ltz/u+Xvm5F98kpkdyidZ/9/n3uuNM5euVbRdqb8zV1Veun1Gz84T7vN7YLBn+F7z7+vCmy3Yf+6Q2RTGWXjc+Xbm6AzO1Vychz+EXBb8yX//G6Tn962jP7ToZn58KfMH2IpDNj08tfQqbJ1e4CXOKeec+zO3w+xLv8c6F+6cP2d6Nue0+uvcn+Ib+Xfx53dOjlJKafX3tj06/IU/ycfzLz5Ddv9cfmuPLb5P+cNavtseZJMqn++u7DBJB9JmoAAAAFZBoAAAAIqO15mxhtY63UgTAwAAS7UZKBATAACwigMHCkQDAAB8Gn0UAABA0YFrFGbQRwEAgFW0GSgQEwAAsAqaHgAAQBGBAgAAKCJQAAAARW32UaAzIwAAq2gzUCAmAABgFTQ9HFu27qRVp8qsOl9+AewTgQIAACgiUAAAAEUECgAAoKjNzoyMegAAYBVtBgrEBAAArIKmh1/vdDLf6th3vPy+p8rshse+44hpRrWfrRPwPdvdjSe6yE8RKAAAgCICBQAAUESgAAAAiggUAABAkW5tgIDWSin6YuG05O+5/k8g2t8lx7rHV0P6cbeUzp0w+0bh4bpwthn62TmfHp7unG6s3A07vCbfTlJbBWtzgQIAAFgPTQ8AAKCIQAEAABQRKAAAgKKmAoVhGIZhsNZunZBPsdYOw2CMGYYhekm2N5l3Y0y0pdXMnufD9XdymqmWMpt+lKqcQWtt9tM/ipnMpi8dPbOqkF//UvT5Hj6/rgnX61Up1XVd13VKqb7vt07R+vq+D/MYfnbyVLZ3XbddGtcnmbper35Lq5kt5au9/EZ3cquZlS+l8NZ15QxG1yQ6av+eZjZ89eiZdYX8hi+FZVAD+W0kUAj/6uRT2TQ5HxHdfP5plN+D3ohZ8ieXfsX4HZrJrHyJyOPwO6jJ/IZ3cpOZvV6vaenoZjMYPg5vhv0rZVY2Zp8eN7OunF9PXoq+q4+bX9FIgZr+6DzoV8yM9O9Qbrjop8lBb8Qs+XuLvk+bzOzMl057+S39tTaT2ev12vd9dOu6cgajAEKCp6+l9k0zmU1/VbuDZ9aV8yu6O5/3o+dXHC/FqfTSt9r6EPJ5LP1BHp3/Y4sChfYy62/g/s6/1GR+fQWs/3Em29vLbGXZGf34Tg88hPk0+zy2kVmXS3b4gfoPuo38/qca1UZnqCxr7eVyUbO9aY5uGIZpmhr+EFNaa/lOmaZpHEfX7kxo1lqttdzDSinfwHRmvja7ScaYaZr8B91qZsdxzN7MDeS3qVEPobSrfBuMMZfLxTc6NMla23ZJmdX3vbXWWisZbzgKlJBIfqn0fX+5XE4VEZ7KMAxaa4kSWv1OFlrrvu9bzWOzgUKTtNZKqev12vYXq5SR5k4pdblcWv0L9MLIoOu6Vj9iyZfPneS61cxWkh/c/qlcjQZueGPMOI5SCe+z02Rm/V0tX1lSKSiZaiO/LQQKctGj75rDfRJPye8wuRfD7VGhYq09ek3XMAwSm/tAoes6KVHay6zK3cD+m6XJ/EZ8HpvPbCmD0V90G2GTtB4656K6sSYza4xJv7J8oBDuedT8btIzYnVhh5EG+kCl/Njc6yP3OMBsZnTvcYU5ajWzpeGRTeZXFYZHtpfZKAszGQyviTrmHBIqN8Qj/b5yTWTWzfZJDDszuiby206BGkY/R/9+SUn0E4mmjhDtDfeIPtBWMxt+smnf+JbyG3X4ajiz6XdRKYPRNflyOleRBgopeamBzLolgUID+W1qmemDNv+sJW2VaFiTmZ25gdvL76kyGyll8FTfYKfKrDp4fpsKFAAAwLpa6MwIAAA+hEABAAAUESgAAIAiAgUAAFBEoAAAAIoIFAAAQBGBAgAAKCJQAAAARQQKAACgiEABAAAUESgAAIAiAgUAAFBEoAAAAIoIFAAAQBGBAgAAKCJQAAAARQQKAACgiEABAAAUESgAAIAiAgUAAFBEoAAAAIoIFAAAQBGBAgAAKCJQAAAARQQKAACgiEABAAAUESgAAIAiAgUAAFBEoAAAAIoIFAAAQNH/ARv/CU1acHK2AAAAAElFTkSuQmCC\n",
      "text/plain": [
       "<IPython.core.display.Image object>"
      ]
     },
     "metadata": {},
     "output_type": "display_data"
    }
   ],
   "source": [
    "c1.Draw()\n",
    "h_data_mass_mu_os.Draw()\n",
    "h_data_mass_mu_ss.SetLineColor(ROOT.kRed)\n",
    "h_data_mass_mu_ss.Draw(\"same\")\n",
    "h_data_mass_mu_os.GetXaxis().SetRangeUser(0,140)\n",
    "#h_data_mass_mu_os.Rebin(2)\n",
    "#h_data_mass_mu_ss.Rebin(2)\n",
    "c1.Update()\n",
    "\n"
   ]
  },
  {
   "cell_type": "code",
   "execution_count": null,
   "id": "66ff406c",
   "metadata": {},
   "outputs": [],
   "source": []
  },
  {
   "cell_type": "code",
   "execution_count": null,
   "id": "42863362",
   "metadata": {},
   "outputs": [],
   "source": []
  }
 ],
 "metadata": {
  "kernelspec": {
   "display_name": "Python 3",
   "language": "python",
   "name": "python3"
  },
  "language_info": {
   "codemirror_mode": {
    "name": "ipython",
    "version": 3
   },
   "file_extension": ".py",
   "mimetype": "text/x-python",
   "name": "python",
   "nbconvert_exporter": "python",
   "pygments_lexer": "ipython3",
   "version": "3.8.8"
  }
 },
 "nbformat": 4,
 "nbformat_minor": 5
}
