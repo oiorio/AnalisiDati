{
 "cells": [
  {
   "cell_type": "markdown",
   "id": "f47a4151",
   "metadata": {},
   "source": [
    "# Se voglio ricostruire una coppia di elettroni di carica opposta come faccio?\n"
   ]
  },
  {
   "cell_type": "code",
   "execution_count": 1,
   "id": "520c06f3",
   "metadata": {
    "scrolled": true
   },
   "outputs": [
    {
     "name": "stdout",
     "output_type": "stream",
     "text": [
      "/home/orso/AnalisiDati/6. Concetti di ricostruzione: prompt, non-prompt, fake. Ricostruzione della massa del bosone Z\n",
      "il File c'è già! Non sarà riscaricato.\n",
      "0\n",
      "--2023-01-27 12:05:17--  https://github.com/oiorio/AnalisiDati/raw/main/5.%20Entuple%20e%20formati%20di%20dati%20complessi/DYJets.root\n",
      "Resolving github.com (github.com)... 140.82.121.3\n",
      "Connecting to github.com (github.com)|140.82.121.3|:443... connected.\n",
      "HTTP request sent, awaiting response... 302 Found\n",
      "Location: https://raw.githubusercontent.com/oiorio/AnalisiDati/main/5.%20Entuple%20e%20formati%20di%20dati%20complessi/DYJets.root [following]\n",
      "--2023-01-27 12:05:18--  https://raw.githubusercontent.com/oiorio/AnalisiDati/main/5.%20Entuple%20e%20formati%20di%20dati%20complessi/DYJets.root\n",
      "Resolving raw.githubusercontent.com (raw.githubusercontent.com)... 185.199.109.133, 185.199.110.133, 185.199.111.133, ...\n",
      "Connecting to raw.githubusercontent.com (raw.githubusercontent.com)|185.199.109.133|:443... connected.\n",
      "HTTP request sent, awaiting response... 200 OK\n",
      "Length: 2152475 (2.1M) [application/octet-stream]\n",
      "Saving to: ‘DYJets.root’\n",
      "\n",
      "     0K .......... .......... .......... .......... ..........  2% 3.15M 1s\n",
      "    50K .......... .......... .......... .......... ..........  4% 4.96M 1s\n",
      "   100K .......... .......... .......... .......... ..........  7% 7.30M 0s\n",
      "   150K .......... .......... .......... .......... ..........  9% 2.43M 0s\n",
      "   200K .......... .......... .......... .......... .......... 11% 13.0M 0s\n",
      "   250K .......... .......... .......... .......... .......... 14% 18.5M 0s\n",
      "   300K .......... .......... .......... .......... .......... 16% 1.52M 0s\n",
      "   350K .......... .......... .......... .......... .......... 19% 3.79M 0s\n",
      "   400K .......... .......... .......... .......... .......... 21% 45.2M 0s\n",
      "   450K .......... .......... .......... .......... .......... 23% 10.7M 0s\n",
      "   500K .......... .......... .......... .......... .......... 26% 8.07M 0s\n",
      "   550K .......... .......... .......... .......... .......... 28% 10.1M 0s\n",
      "   600K .......... .......... .......... .......... .......... 30% 6.57M 0s\n",
      "   650K .......... .......... .......... .......... .......... 33% 12.3M 0s\n",
      "   700K .......... .......... .......... .......... .......... 35% 2.21M 0s\n",
      "   750K .......... .......... .......... .......... .......... 38% 13.7M 0s\n",
      "   800K .......... .......... .......... .......... .......... 40% 4.17M 0s\n",
      "   850K .......... .......... .......... .......... .......... 42% 67.0M 0s\n",
      "   900K .......... .......... .......... .......... .......... 45% 7.74M 0s\n",
      "   950K .......... .......... .......... .......... .......... 47% 15.0M 0s\n",
      "  1000K .......... .......... .......... .......... .......... 49% 5.23M 0s\n",
      "  1050K .......... .......... .......... .......... .......... 52% 18.7M 0s\n",
      "  1100K .......... .......... .......... .......... .......... 54% 20.2M 0s\n",
      "  1150K .......... .......... .......... .......... .......... 57% 6.84M 0s\n",
      "  1200K .......... .......... .......... .......... .......... 59% 3.96M 0s\n",
      "  1250K .......... .......... .......... .......... .......... 61% 10.4M 0s\n",
      "  1300K .......... .......... .......... .......... .......... 64% 4.65M 0s\n",
      "  1350K .......... .......... .......... .......... .......... 66% 17.4M 0s\n",
      "  1400K .......... .......... .......... .......... .......... 68% 13.5M 0s\n",
      "  1450K .......... .......... .......... .......... .......... 71% 5.49M 0s\n",
      "  1500K .......... .......... .......... .......... .......... 73% 16.7M 0s\n",
      "  1550K .......... .......... .......... .......... .......... 76% 5.54M 0s\n",
      "  1600K .......... .......... .......... .......... .......... 78% 6.35M 0s\n",
      "  1650K .......... .......... .......... .......... .......... 80% 8.40M 0s\n",
      "  1700K .......... .......... .......... .......... .......... 83% 2.62M 0s\n",
      "  1750K .......... .......... .......... .......... .......... 85% 7.92M 0s\n",
      "  1800K .......... .......... .......... .......... .......... 88% 4.91M 0s\n",
      "  1850K .......... .......... .......... .......... .......... 90% 11.2M 0s\n",
      "  1900K .......... .......... .......... .......... .......... 92% 15.5M 0s\n",
      "  1950K .......... .......... .......... .......... .......... 95% 10.1M 0s\n",
      "  2000K .......... .......... .......... .......... .......... 97% 4.02M 0s\n",
      "  2050K .......... .......... .......... .......... .......... 99% 23.9M 0s\n",
      "  2100K ..                                                    100% 3865G=0.3s\n",
      "\n",
      "2023-01-27 12:05:19 (6.22 MB/s) - ‘DYJets.root’ saved [2152475/2152475]\n",
      "\n",
      "-rw-r--r-- 1 orso orso 2.1M Jan 26 10:49 DYJets_old.root\n",
      "-rw-r--r-- 1 orso orso 2.1M Jan 27 12:05 DYJets.root\n",
      "Welcome to JupyROOT 6.26/00\n",
      "None\n",
      "Collection name='THashList', class='THashList', size=1\n",
      " TKey Name = trees, Title = trees, Cycle = 1\n",
      "None\n",
      "Collection name='THashList', class='THashList', size=1\n",
      " TKey Name = events, Title = events, Cycle = 1\n",
      "******************************************************************************\n",
      "*Tree    :events    : events                                                 *\n",
      "*Entries :    10000 : Total =         6071498 bytes  File  Size =    2146782 *\n",
      "*        :          : Tree compression factor =   2.82                       *\n",
      "******************************************************************************\n",
      "*Br    0 :muontracks_size : muontracks_size/I                                *\n",
      "*Entries :    10000 : Total  Size=      40693 bytes  File Size  =       6331 *\n",
      "*Baskets :        2 : Basket Size=      32000 bytes  Compression=   6.34     *\n",
      "*............................................................................*\n",
      "*Br    1 :muontracks_pt : vector<float>                                      *\n",
      "*Entries :    10000 : Total  Size=     175411 bytes  File Size  =      71181 *\n",
      "*Baskets :        7 : Basket Size=      32000 bytes  Compression=   2.46     *\n",
      "*............................................................................*\n",
      "*Br    2 :muontracks_eta : vector<float>                                     *\n",
      "*Entries :    10000 : Total  Size=     175422 bytes  File Size  =      72014 *\n",
      "*Baskets :        7 : Basket Size=      32000 bytes  Compression=   2.43     *\n",
      "*............................................................................*\n",
      "*Br    3 :muontracks_phi : vector<float>                                     *\n",
      "*Entries :    10000 : Total  Size=     175422 bytes  File Size  =      72249 *\n",
      "*Baskets :        7 : Basket Size=      32000 bytes  Compression=   2.42     *\n",
      "*............................................................................*\n",
      "*Br    4 :muontracks_e : vector<float>                                       *\n",
      "*Entries :    10000 : Total  Size=     175400 bytes  File Size  =      71293 *\n",
      "*Baskets :        7 : Basket Size=      32000 bytes  Compression=   2.45     *\n",
      "*............................................................................*\n",
      "*Br    5 :muontracks_charge : vector<float>                                  *\n",
      "*Entries :    10000 : Total  Size=     175455 bytes  File Size  =      38454 *\n",
      "*Baskets :        7 : Basket Size=      32000 bytes  Compression=   4.55     *\n",
      "*............................................................................*\n",
      "*Br    6 :muontracks_chi2 : vector<float>                                    *\n",
      "*Entries :    10000 : Total  Size=     175433 bytes  File Size  =      69474 *\n",
      "*Baskets :        7 : Basket Size=      32000 bytes  Compression=   2.52     *\n",
      "*............................................................................*\n",
      "*Br    7 :muontracks_mctruthmatch : vector<float>                            *\n",
      "*Entries :    10000 : Total  Size=     175521 bytes  File Size  =      38000 *\n",
      "*Baskets :        7 : Basket Size=      32000 bytes  Compression=   4.60     *\n",
      "*............................................................................*\n",
      "*Br    8 :muontracks_minDR : vector<float>                                   *\n",
      "*Entries :    10000 : Total  Size=     175444 bytes  File Size  =      63632 *\n",
      "*Baskets :        7 : Basket Size=      32000 bytes  Compression=   2.75     *\n",
      "*............................................................................*\n",
      "*Br    9 :muontracks_dB : vector<float>                                      *\n",
      "*Entries :    10000 : Total  Size=     175411 bytes  File Size  =      72224 *\n",
      "*Baskets :        7 : Basket Size=      32000 bytes  Compression=   2.42     *\n",
      "*............................................................................*\n",
      "*Br   10 :muontracks_dz : vector<float>                                      *\n",
      "*Entries :    10000 : Total  Size=     175411 bytes  File Size  =      72512 *\n",
      "*Baskets :        7 : Basket Size=      32000 bytes  Compression=   2.41     *\n",
      "*............................................................................*\n",
      "*Br   11 :muontracks_isoDeposits : vector<float>                             *\n",
      "*Entries :    10000 : Total  Size=     175510 bytes  File Size  =      59797 *\n",
      "*Baskets :        7 : Basket Size=      32000 bytes  Compression=   2.93     *\n",
      "*............................................................................*\n",
      "*Br   12 :electrons_size : electrons_size/I                                  *\n",
      "*Entries :    10000 : Total  Size=      40687 bytes  File Size  =       4991 *\n",
      "*Baskets :        2 : Basket Size=      32000 bytes  Compression=   8.05     *\n",
      "*............................................................................*\n",
      "*Br   13 :electrons_pt : vector<float>                                       *\n",
      "*Entries :    10000 : Total  Size=     160128 bytes  File Size  =      51710 *\n",
      "*Baskets :        7 : Basket Size=      32000 bytes  Compression=   3.09     *\n",
      "*............................................................................*\n",
      "*Br   14 :electrons_eta : vector<float>                                      *\n",
      "*Entries :    10000 : Total  Size=     160139 bytes  File Size  =      53000 *\n",
      "*Baskets :        7 : Basket Size=      32000 bytes  Compression=   3.01     *\n",
      "*............................................................................*\n",
      "*Br   15 :electrons_phi : vector<float>                                      *\n",
      "*Entries :    10000 : Total  Size=     160139 bytes  File Size  =      52951 *\n",
      "*Baskets :        7 : Basket Size=      32000 bytes  Compression=   3.01     *\n",
      "*............................................................................*\n",
      "*Br   16 :electrons_e : vector<float>                                        *\n",
      "*Entries :    10000 : Total  Size=     160117 bytes  File Size  =      51961 *\n",
      "*Baskets :        7 : Basket Size=      32000 bytes  Compression=   3.07     *\n",
      "*............................................................................*\n",
      "*Br   17 :electrons_mctruthmatch : vector<float>                             *\n",
      "*Entries :    10000 : Total  Size=     160238 bytes  File Size  =      31312 *\n",
      "*Baskets :        7 : Basket Size=      32000 bytes  Compression=   5.10     *\n",
      "*............................................................................*\n",
      "*Br   18 :electrons_minDR : vector<float>                                    *\n",
      "*Entries :    10000 : Total  Size=     160161 bytes  File Size  =      51005 *\n",
      "*Baskets :        7 : Basket Size=      32000 bytes  Compression=   3.13     *\n",
      "*............................................................................*\n",
      "*Br   19 :met_pt    : vector<float>                                          *\n",
      "*Entries :    10000 : Total  Size=     181074 bytes  File Size  =      65718 *\n",
      "*Baskets :        7 : Basket Size=      32000 bytes  Compression=   2.75     *\n",
      "*............................................................................*\n",
      "*Br   20 :met_phi   : vector<float>                                          *\n",
      "*Entries :    10000 : Total  Size=     181085 bytes  File Size  =      68231 *\n",
      "*Baskets :        7 : Basket Size=      32000 bytes  Compression=   2.65     *\n",
      "*............................................................................*\n",
      "*Br   21 :jets_size : jets_size/I                                            *\n",
      "*Entries :    10000 : Total  Size=      40657 bytes  File Size  =       7268 *\n",
      "*Baskets :        2 : Basket Size=      32000 bytes  Compression=   5.53     *\n",
      "*............................................................................*\n",
      "*Br   22 :jets_pt   : vector<float>                                          *\n",
      "*Entries :    10000 : Total  Size=     215897 bytes  File Size  =     112912 *\n",
      "*Baskets :        8 : Basket Size=      32000 bytes  Compression=   1.91     *\n",
      "*............................................................................*\n",
      "*Br   23 :jets_eta  : vector<float>                                          *\n",
      "*Entries :    10000 : Total  Size=     215909 bytes  File Size  =     117593 *\n",
      "*Baskets :        8 : Basket Size=      32000 bytes  Compression=   1.83     *\n",
      "*............................................................................*\n",
      "*Br   24 :jets_phi  : vector<float>                                          *\n",
      "*Entries :    10000 : Total  Size=     215909 bytes  File Size  =     117526 *\n",
      "*Baskets :        8 : Basket Size=      32000 bytes  Compression=   1.83     *\n",
      "*............................................................................*\n",
      "*Br   25 :jets_e    : vector<float>                                          *\n",
      "*Entries :    10000 : Total  Size=     215885 bytes  File Size  =     114182 *\n",
      "*Baskets :        8 : Basket Size=      32000 bytes  Compression=   1.89     *\n",
      "*............................................................................*\n",
      "*Br   26 :muontracks_c : vector<float>                                       *\n",
      "*Entries :    10000 : Total  Size=     141051 bytes  File Size  =      15708 *\n",
      "*Baskets :        6 : Basket Size=      32000 bytes  Compression=   8.95     *\n",
      "*............................................................................*\n",
      "*Br   27 :genlep_pt : vector<float>                                          *\n",
      "*Entries :    10000 : Total  Size=     221279 bytes  File Size  =      84345 *\n",
      "*Baskets :        9 : Basket Size=      32000 bytes  Compression=   2.62     *\n",
      "*............................................................................*\n",
      "*Br   28 :genlep_eta : vector<float>                                         *\n",
      "*Entries :    10000 : Total  Size=     221292 bytes  File Size  =     109092 *\n",
      "*Baskets :        9 : Basket Size=      32000 bytes  Compression=   2.02     *\n",
      "*............................................................................*\n",
      "*Br   29 :genlep_phi : vector<float>                                         *\n",
      "*Entries :    10000 : Total  Size=     221292 bytes  File Size  =     108953 *\n",
      "*Baskets :        9 : Basket Size=      32000 bytes  Compression=   2.03     *\n",
      "*............................................................................*\n",
      "*Br   30 :genlep_e  : vector<float>                                          *\n",
      "*Entries :    10000 : Total  Size=     221266 bytes  File Size  =     106630 *\n",
      "*Baskets :        9 : Basket Size=      32000 bytes  Compression=   2.07     *\n",
      "*............................................................................*\n",
      "*Br   31 :genlep_id : vector<float>                                          *\n",
      "*Entries :    10000 : Total  Size=     221279 bytes  File Size  =      30977 *\n",
      "*Baskets :        9 : Basket Size=      32000 bytes  Compression=   7.13     *\n",
      "*............................................................................*\n",
      "*Br   32 :electrons_charge : vector<float>                                   *\n",
      "*Entries :    10000 : Total  Size=     160172 bytes  File Size  =      31573 *\n",
      "*Baskets :        7 : Basket Size=      32000 bytes  Compression=   5.06     *\n",
      "*............................................................................*\n",
      "*Br   33 :electrons_dB : vector<float>                                       *\n",
      "*Entries :    10000 : Total  Size=     141051 bytes  File Size  =      15708 *\n",
      "*Baskets :        6 : Basket Size=      32000 bytes  Compression=   8.95     *\n",
      "*............................................................................*\n",
      "*Br   34 :electrons_dz : vector<float>                                       *\n",
      "*Entries :    10000 : Total  Size=     141051 bytes  File Size  =      15708 *\n",
      "*Baskets :        6 : Basket Size=      32000 bytes  Compression=   8.95     *\n",
      "*............................................................................*\n",
      "*Br   35 :electrons_isoDeposits : vector<float>                              *\n",
      "*Entries :    10000 : Total  Size=     141141 bytes  File Size  =      15722 *\n",
      "*Baskets :        6 : Basket Size=      32000 bytes  Compression=   8.94     *\n",
      "*............................................................................*\n",
      "2\n",
      "0\n",
      "0\n",
      "array('i', [2])\n",
      "array('i', [0])\n"
     ]
    },
    {
     "data": {
      "image/png": "[encoded data removed]",
      "text/plain": [
       "<IPython.core.display.Image object>"
      ]
     },
     "metadata": {},
     "output_type": "display_data"
    },
    {
     "data": {
      "image/png": "[encoded data removed]",
      "text/plain": [
       "<IPython.core.display.Image object>"
      ]
     },
     "metadata": {},
     "output_type": "display_data"
    },
    {
     "name": "stdout",
     "output_type": "stream",
     "text": [
      "***********************************************\n",
      "*    Row   * Instance * electrons * electrons *\n",
      "***********************************************\n",
      "*        0 *        0 *         0 *           *\n",
      "*        1 *        0 *         1 *         1 *\n",
      "*        2 *        0 *         2 *        -1 *\n",
      "*        2 *        1 *         2 *         1 *\n",
      "*        3 *        0 *         0 *           *\n",
      "*        4 *        0 *         1 *         1 *\n",
      "*        5 *        0 *         0 *           *\n",
      "*        6 *        0 *         0 *           *\n",
      "*        7 *        0 *         0 *           *\n",
      "*        8 *        0 *         0 *           *\n",
      "*        9 *        0 *         0 *           *\n",
      "*       10 *        0 *         0 *           *\n",
      "*       11 *        0 *         2 *         1 *\n",
      "*       11 *        1 *         2 *        -1 *\n",
      "*       12 *        0 *         0 *           *\n",
      "*       13 *        0 *         2 *         1 *\n",
      "*       13 *        1 *         2 *        -1 *\n",
      "*       14 *        0 *         0 *           *\n",
      "*       15 *        0 *         1 *         1 *\n",
      "*       16 *        0 *         0 *           *\n",
      "*       17 *        0 *         0 *           *\n",
      "*       18 *        0 *         1 *         1 *\n",
      "*       19 *        0 *         0 *           *\n",
      "*       20 *        0 *         0 *           *\n",
      "*       21 *        0 *         0 *           *\n",
      "*       22 *        0 *         0 *           *\n",
      "*       23 *        0 *         0 *           *\n",
      "*       24 *        0 *         2 *         1 *\n",
      "*       24 *        1 *         2 *        -1 *\n",
      "*       25 *        0 *         1 *         1 *\n",
      "*       26 *        0 *         0 *           *\n",
      "*       27 *        0 *         0 *           *\n",
      "*       28 *        0 *         0 *           *\n",
      "*       29 *        0 *         0 *           *\n",
      "*       30 *        0 *         0 *           *\n",
      "*       31 *        0 *         0 *           *\n",
      "*       32 *        0 *         2 *        -1 *\n",
      "*       32 *        1 *         2 *         1 *\n",
      "*       33 *        0 *         0 *           *\n",
      "*       34 *        0 *         2 *         1 *\n",
      "*       34 *        1 *         2 *        -1 *\n",
      "*       35 *        0 *         0 *           *\n",
      "*       36 *        0 *         1 *        -1 *\n",
      "*       37 *        0 *         0 *           *\n",
      "*       38 *        0 *         0 *           *\n",
      "*       39 *        0 *         2 *        -1 *\n",
      "*       39 *        1 *         2 *         1 *\n",
      "*       40 *        0 *         0 *           *\n",
      "*       41 *        0 *         1 *         1 *\n",
      "*       42 *        0 *         0 *           *\n",
      "*       43 *        0 *         0 *           *\n",
      "*       44 *        0 *         0 *           *\n",
      "*       45 *        0 *         1 *        -1 *\n",
      "*       46 *        0 *         0 *           *\n",
      "*       47 *        0 *         0 *           *\n",
      "*       48 *        0 *         0 *           *\n",
      "*       49 *        0 *         0 *           *\n",
      "***********************************************\n",
      "***********************************************\n",
      "*    Row   * Instance * electrons * electrons *\n",
      "***********************************************\n",
      "*        0 *        0 *         0 *           *\n",
      "*        1 *        0 *         1 *         1 *\n",
      "*        2 *        0 *         2 *        -1 *\n",
      "*        2 *        1 *         2 *         1 *\n",
      "*        3 *        0 *         0 *           *\n",
      "*        4 *        0 *         1 *         1 *\n",
      "*        5 *        0 *         0 *           *\n",
      "*        6 *        0 *         0 *           *\n",
      "*        7 *        0 *         0 *           *\n",
      "*        8 *        0 *         0 *           *\n",
      "*        9 *        0 *         0 *           *\n",
      "*       10 *        0 *         0 *           *\n",
      "*       11 *        0 *         2 *         1 *\n",
      "*       11 *        1 *         2 *        -1 *\n",
      "*       12 *        0 *         0 *           *\n",
      "*       13 *        0 *         2 *         1 *\n",
      "*       13 *        1 *         2 *        -1 *\n",
      "*       14 *        0 *         0 *           *\n",
      "*       15 *        0 *         1 *         1 *\n",
      "*       16 *        0 *         0 *           *\n",
      "*       17 *        0 *         0 *           *\n",
      "*       18 *        0 *         1 *         1 *\n",
      "*       19 *        0 *         0 *           *\n",
      "*       20 *        0 *         0 *           *\n",
      "*       21 *        0 *         0 *           *\n",
      "*       22 *        0 *         0 *           *\n",
      "*       23 *        0 *         0 *           *\n",
      "*       24 *        0 *         2 *         1 *\n",
      "*       24 *        1 *         2 *        -1 *\n",
      "*       25 *        0 *         1 *         1 *\n",
      "*       26 *        0 *         0 *           *\n",
      "*       27 *        0 *         0 *           *\n",
      "*       28 *        0 *         0 *           *\n",
      "*       29 *        0 *         0 *           *\n",
      "*       30 *        0 *         0 *           *\n",
      "*       31 *        0 *         0 *           *\n",
      "*       32 *        0 *         2 *        -1 *\n",
      "*       32 *        1 *         2 *         1 *\n",
      "*       33 *        0 *         0 *           *\n",
      "*       34 *        0 *         2 *         1 *\n",
      "*       34 *        1 *         2 *        -1 *\n",
      "*       35 *        0 *         0 *           *\n",
      "*       36 *        0 *         1 *        -1 *\n",
      "*       37 *        0 *         0 *           *\n",
      "*       38 *        0 *         0 *           *\n",
      "*       39 *        0 *         2 *        -1 *\n",
      "*       39 *        1 *         2 *         1 *\n",
      "*       40 *        0 *         0 *           *\n",
      "*       41 *        0 *         1 *         1 *\n",
      "*       42 *        0 *         0 *           *\n",
      "*       43 *        0 *         0 *           *\n",
      "*       44 *        0 *         0 *           *\n",
      "*       45 *        0 *         1 *        -1 *\n",
      "*       46 *        0 *         0 *           *\n",
      "*       47 *        0 *         0 *           *\n",
      "*       48 *        0 *         0 *           *\n",
      "*       49 *        0 *         0 *           *\n",
      "***********************************************\n",
      "***********************************************\n",
      "*    Row   * Instance * electrons * electrons *\n",
      "***********************************************\n",
      "*        0 *        0 *         0 *           *\n",
      "*        1 *        0 *         1 *         1 *\n",
      "*        2 *        0 *         2 *        -1 *\n",
      "*        2 *        1 *         2 *         1 *\n",
      "*        3 *        0 *         0 *           *\n",
      "*        4 *        0 *         1 *         1 *\n",
      "*        5 *        0 *         0 *           *\n",
      "*        6 *        0 *         0 *           *\n",
      "*        7 *        0 *         0 *           *\n",
      "*        8 *        0 *         0 *           *\n",
      "*        9 *        0 *         0 *           *\n",
      "*       10 *        0 *         0 *           *\n",
      "*       11 *        0 *         2 *         1 *\n",
      "*       11 *        1 *         2 *        -1 *\n",
      "*       12 *        0 *         0 *           *\n",
      "*       13 *        0 *         2 *         1 *\n",
      "*       13 *        1 *         2 *        -1 *\n",
      "*       14 *        0 *         0 *           *\n",
      "*       15 *        0 *         1 *         1 *\n",
      "*       16 *        0 *         0 *           *\n",
      "*       17 *        0 *         0 *           *\n",
      "*       18 *        0 *         1 *         1 *\n",
      "*       19 *        0 *         0 *           *\n",
      "*       20 *        0 *         0 *           *\n",
      "*       21 *        0 *         0 *           *\n",
      "*       22 *        0 *         0 *           *\n",
      "*       23 *        0 *         0 *           *\n",
      "*       24 *        0 *         2 *         1 *\n",
      "*       24 *        1 *         2 *        -1 *\n",
      "*       25 *        0 *         1 *         1 *\n",
      "*       26 *        0 *         0 *           *\n",
      "*       27 *        0 *         0 *           *\n",
      "*       28 *        0 *         0 *           *\n",
      "*       29 *        0 *         0 *           *\n",
      "*       30 *        0 *         0 *           *\n",
      "*       31 *        0 *         0 *           *\n",
      "*       32 *        0 *         2 *        -1 *\n",
      "*       32 *        1 *         2 *         1 *\n",
      "*       33 *        0 *         0 *           *\n",
      "*       34 *        0 *         2 *         1 *\n",
      "*       34 *        1 *         2 *        -1 *\n",
      "*       35 *        0 *         0 *           *\n",
      "*       36 *        0 *         1 *        -1 *\n",
      "*       37 *        0 *         0 *           *\n",
      "*       38 *        0 *         0 *           *\n",
      "*       39 *        0 *         2 *        -1 *\n",
      "*       39 *        1 *         2 *         1 *\n",
      "*       40 *        0 *         0 *           *\n",
      "*       41 *        0 *         1 *         1 *\n",
      "*       42 *        0 *         0 *           *\n",
      "*       43 *        0 *         0 *           *\n",
      "*       44 *        0 *         0 *           *\n",
      "*       45 *        0 *         1 *        -1 *\n",
      "*       46 *        0 *         0 *           *\n",
      "*       47 *        0 *         0 *           *\n",
      "*       48 *        0 *         0 *           *\n",
      "*       49 *        0 *         0 *           *\n",
      "***********************************************\n",
      "***********************************************\n",
      "*    Row   * Instance * electrons * electrons *\n",
      "***********************************************\n",
      "*        0 *        0 *         0 *           *\n",
      "*        1 *        0 *         1 *         1 *\n",
      "*        2 *        0 *         2 *        -1 *\n",
      "*        2 *        1 *         2 *         1 *\n",
      "*        3 *        0 *         0 *           *\n",
      "*        4 *        0 *         1 *         1 *\n",
      "*        5 *        0 *         0 *           *\n",
      "*        6 *        0 *         0 *           *\n",
      "*        7 *        0 *         0 *           *\n",
      "*        8 *        0 *         0 *           *\n",
      "*        9 *        0 *         0 *           *\n",
      "*       10 *        0 *         0 *           *\n",
      "*       11 *        0 *         2 *         1 *\n",
      "*       11 *        1 *         2 *        -1 *\n",
      "*       12 *        0 *         0 *           *\n",
      "*       13 *        0 *         2 *         1 *\n",
      "*       13 *        1 *         2 *        -1 *\n",
      "*       14 *        0 *         0 *           *\n",
      "*       15 *        0 *         1 *         1 *\n",
      "*       16 *        0 *         0 *           *\n",
      "*       17 *        0 *         0 *           *\n",
      "*       18 *        0 *         1 *         1 *\n",
      "*       19 *        0 *         0 *           *\n",
      "*       20 *        0 *         0 *           *\n",
      "*       21 *        0 *         0 *           *\n",
      "*       22 *        0 *         0 *           *\n",
      "*       23 *        0 *         0 *           *\n",
      "*       24 *        0 *         2 *         1 *\n",
      "*       24 *        1 *         2 *        -1 *\n",
      "*       25 *        0 *         1 *         1 *\n",
      "*       26 *        0 *         0 *           *\n",
      "*       27 *        0 *         0 *           *\n",
      "*       28 *        0 *         0 *           *\n",
      "*       29 *        0 *         0 *           *\n",
      "*       30 *        0 *         0 *           *\n",
      "*       31 *        0 *         0 *           *\n",
      "*       32 *        0 *         2 *        -1 *\n",
      "*       32 *        1 *         2 *         1 *\n",
      "*       33 *        0 *         0 *           *\n",
      "*       34 *        0 *         2 *         1 *\n",
      "*       34 *        1 *         2 *        -1 *\n",
      "*       35 *        0 *         0 *           *\n",
      "*       36 *        0 *         1 *        -1 *\n",
      "*       37 *        0 *         0 *           *\n",
      "*       38 *        0 *         0 *           *\n",
      "*       39 *        0 *         2 *        -1 *\n",
      "*       39 *        1 *         2 *         1 *\n",
      "*       40 *        0 *         0 *           *\n",
      "*       41 *        0 *         1 *         1 *\n",
      "*       42 *        0 *         0 *           *\n",
      "*       43 *        0 *         0 *           *\n",
      "*       44 *        0 *         0 *           *\n",
      "*       45 *        0 *         1 *        -1 *\n",
      "*       46 *        0 *         0 *           *\n",
      "*       47 *        0 *         0 *           *\n",
      "*       48 *        0 *         0 *           *\n",
      "*       49 *        0 *         0 *           *\n",
      "***********************************************\n"
     ]
    },
    {
     "name": "stderr",
     "output_type": "stream",
     "text": [
      "Type <CR> to continue or q to quit ==> Type <CR> to continue or q to quit ==> Type <CR> to continue or q to quit ==> Type <CR> to continue or q to quit ==> Type <CR> to continue or q to quit ==> Type <CR> to continue or q to quit ==> Type <CR> to continue or q to quit ==> Type <CR> to continue or q to quit ==> "
     ]
    }
   ],
   "source": [
    "#Prima cosa: giriamo il notebook precedente \n",
    "%run ../5.\\ Entuple\\ e\\ formati\\ di\\ dati\\ complessi/trees_and_ntuples.ipynb"
   ]
  },
  {
   "cell_type": "code",
   "execution_count": 2,
   "id": "3d5f346f",
   "metadata": {},
   "outputs": [
    {
     "data": {
      "text/plain": [
       "10000"
      ]
     },
     "execution_count": 2,
     "metadata": {},
     "output_type": "execute_result"
    }
   ],
   "source": [
    "#Non solo l'output, anche il tree è presente!\n",
    "mytree\n",
    "mytree.GetEntries()"
   ]
  },
  {
   "cell_type": "markdown",
   "id": "a6276028",
   "metadata": {},
   "source": [
    "## Ora facciamo un loop sugli eventi!"
   ]
  },
  {
   "cell_type": "code",
   "execution_count": 3,
   "id": "a983282e",
   "metadata": {},
   "outputs": [
    {
     "name": "stdout",
     "output_type": "stream",
     "text": [
      "******************************************************************************\n",
      "*Tree    :events    : events                                                 *\n",
      "*Entries :    10000 : Total =         6072458 bytes  File  Size =    2146782 *\n",
      "*        :          : Tree compression factor =   2.82                       *\n",
      "******************************************************************************\n",
      "*Br    0 :jets_size : jets_size/I                                            *\n",
      "*Entries :    10000 : Total  Size=      40665 bytes  File Size  =       7268 *\n",
      "*Baskets :        2 : Basket Size=      32000 bytes  Compression=   5.53     *\n",
      "*............................................................................*\n",
      "*Br    1 :jets_pt   : vector<float>                                          *\n",
      "*Entries :    10000 : Total  Size=     215929 bytes  File Size  =     112912 *\n",
      "*Baskets :        8 : Basket Size=      32000 bytes  Compression=   1.91     *\n",
      "*............................................................................*\n",
      "*Br    2 :jets_eta  : vector<float>                                          *\n",
      "*Entries :    10000 : Total  Size=     215941 bytes  File Size  =     117593 *\n",
      "*Baskets :        8 : Basket Size=      32000 bytes  Compression=   1.83     *\n",
      "*............................................................................*\n",
      "*Br    3 :jets_phi  : vector<float>                                          *\n",
      "*Entries :    10000 : Total  Size=     215941 bytes  File Size  =     117526 *\n",
      "*Baskets :        8 : Basket Size=      32000 bytes  Compression=   1.83     *\n",
      "*............................................................................*\n",
      "*Br    4 :jets_e    : vector<float>                                          *\n",
      "*Entries :    10000 : Total  Size=     215917 bytes  File Size  =     114182 *\n",
      "*Baskets :        8 : Basket Size=      32000 bytes  Compression=   1.89     *\n",
      "*............................................................................*\n"
     ]
    }
   ],
   "source": [
    "mytree.Print(\"jets*\")"
   ]
  },
  {
   "cell_type": "code",
   "execution_count": 4,
   "id": "f3a81101",
   "metadata": {
    "scrolled": true
   },
   "outputs": [
    {
     "name": "stdout",
     "output_type": "stream",
     "text": [
      "event # 0 n jets  2  pt:  { 56.3023f, 55.8997f }\n",
      "leading jet pt 56.30229949951172  mass?  5.134994026979267\n",
      "event # 1000 n jets  3  pt:  { 30.0213f, 25.7592f, 22.6790f }\n",
      "leading jet pt 30.02133560180664  mass?  4.819653273611887\n",
      "event # 2000 n jets  2  pt:  { 45.6171f, 35.1373f }\n",
      "leading jet pt 45.61709213256836  mass?  4.819771473086346\n",
      "event # 3000 n jets  2  pt:  { 22.3066f, 20.7958f }\n",
      "leading jet pt 22.306556701660156  mass?  6.789703805725764\n",
      "event # 4000 n jets  3  pt:  { 65.5453f, 39.3958f, 35.9018f }\n",
      "leading jet pt 65.54531860351562  mass?  12.201516049901832\n",
      "event # 5000 n jets  2  pt:  { 58.5544f, 49.1629f }\n",
      "leading jet pt 58.5544319152832  mass?  12.885972862458438\n",
      "event # 6000 n jets  3  pt:  { 58.3725f, 37.2806f, 23.7087f }\n",
      "leading jet pt 58.37245178222656  mass?  4.705065603508283\n",
      "event # 7000 n jets  1  pt:  { 32.0088f }\n",
      "leading jet pt 32.00883102416992  mass?  3.7364037975131237\n",
      "event # 8000 n jets  3  pt:  { 38.3194f, 34.4998f, 20.6476f }\n",
      "leading jet pt 38.319358825683594  mass?  4.917433864190214\n",
      "event # 9000 n jets  2  pt:  { 49.2051f, 46.0630f }\n",
      "leading jet pt 49.20511245727539  mass?  6.629038826031875\n"
     ]
    }
   ],
   "source": [
    "h_jet_mass = ROOT.TH1F(\"Jets_mass_0\",\"Leading jet pt\",100,0,100) \n",
    "for i in range (mytree.GetEntries()):\n",
    "    mytree.GetEntry(i)\n",
    "    #Ogni 1000 eventi stampo a schermo il vettore dei jet!\n",
    "    if(i%1000==0):print( \"event #\", i, \"n jets \",mytree.jets_size, \" pt: \",mytree.jets_pt)\n",
    "    #Se c'è almeno 1 jet: stampo il pt\n",
    "\n",
    "    if(mytree.jets_size):\n",
    "            jet_0 = ROOT.TLorentzVector()\n",
    "            jet_0.SetPtEtaPhiE(mytree.jets_pt[0],mytree.jets_eta[0],mytree.jets_phi[0],mytree.jets_e[0])\n",
    "            if(i%1000==0):print(\"leading jet pt\",mytree.jets_pt[0],\" mass? \",jet_0.M())\n",
    "            h_jet_mass.Fill(jet_0.Pt())"
   ]
  },
  {
   "cell_type": "code",
   "execution_count": 5,
   "id": "05057a05",
   "metadata": {
    "scrolled": false
   },
   "outputs": [
    {
     "data": {
      "image/png": "[encoded data removed]",
      "text/plain": [
       "<IPython.core.display.Image object>"
      ]
     },
     "metadata": {},
     "output_type": "display_data"
    }
   ],
   "source": [
    "#Diseg\n",
    "c1= ROOT.TCanvas()\n",
    "c1.Draw()\n",
    "h_jet_mass.Draw(\"e\")\n",
    "\n",
    "\n",
    "\n"
   ]
  },
  {
   "cell_type": "markdown",
   "id": "aac12994",
   "metadata": {},
   "source": [
    "## Esercizio 1:\n",
    "\n",
    "Proviamo a fare la somma vettoriale  di due elettroni di carica opposta e disegnarne la massa.\n",
    "Facciamo lo stesso coi muoni.\n",
    "\n",
    "### 1.1 Che forma ha questa distribuzione\n",
    "\n",
    "### 1.2 Quante coppie avrò per evento?\n",
    "\n",
    "\n",
    "## Esercizio 2: \n",
    "\n",
    "Proviamo a fittare la distribuzione che viene fuori, ad es. con gauss + expo, o... altro?\n"
   ]
  },
  {
   "cell_type": "code",
   "execution_count": 6,
   "id": "c136977a",
   "metadata": {},
   "outputs": [
    {
     "data": {
      "image/png": "[encoded data removed]",
      "text/plain": [
       "<IPython.core.display.Image object>"
      ]
     },
     "metadata": {},
     "output_type": "display_data"
    }
   ],
   "source": [
    "mytree.Draw(\"electrons_size\",\"(electrons_size>-1)/10000.\",\"histotext\")\n",
    "mytree.GetHistogram().GetXaxis().SetTitle(\"n electrons\")\n",
    "c1.SetLogy(0)\n",
    "c1.Draw(\"\")"
   ]
  },
  {
   "cell_type": "code",
   "execution_count": 7,
   "id": "3d3fa195",
   "metadata": {},
   "outputs": [
    {
     "data": {
      "image/png": "[encoded data removed]",
      "text/plain": [
       "<IPython.core.display.Image object>"
      ]
     },
     "metadata": {},
     "output_type": "display_data"
    }
   ],
   "source": [
    "m_min=0\n",
    "m_max=150\n",
    "h_mass_el=ROOT.TH1F(\"h_mass_el\",\"Mass of electron pair\",100,m_min,m_max)\n",
    "h_mass_mu=ROOT.TH1F(\"h_mass_mu\",\"Mass of muon pair\",100,m_min,m_max)\n",
    "\n",
    "\n",
    "\n",
    "for i in range(mytree.GetEntries()):\n",
    "#for i in range(100):\n",
    "    mytree.GetEntry(i)\n",
    "    for ei in range(mytree.electrons_size):\n",
    "        #for ej in range(mytree.electrons_size): NOPE\n",
    "        for ej in range(ei): #YES!\n",
    "        #for ej in range(ei+1,mytree.electrons_size): ALSO YES!\n",
    "            if mytree.electrons_charge[ei]* mytree.electrons_charge[ej]<0:\n",
    "                e1=ROOT.TLorentzVector()\n",
    "                e2=ROOT.TLorentzVector()\n",
    "                e1.SetPtEtaPhiE(mytree.electrons_pt[ei],mytree.electrons_eta[ei],mytree.electrons_phi[ei],mytree.electrons_e[ei])\n",
    "                e2.SetPtEtaPhiE(mytree.electrons_pt[ej],mytree.electrons_eta[ej],mytree.electrons_phi[ej],mytree.electrons_e[ej])\n",
    "                h_mass_el.Fill((e1+e2).M())\n",
    "\n",
    "\n",
    "c1=ROOT.TCanvas(\"masses\")\n",
    "c1.Draw()\n",
    "h_mass_el.Draw()"
   ]
  },
  {
   "cell_type": "code",
   "execution_count": 8,
   "id": "e23e920e",
   "metadata": {},
   "outputs": [],
   "source": [
    "#Let's take a step further - a bit less monke\n",
    "\n",
    "#1 Classe \"particella\"\n",
    "class particle:\n",
    "    def __init__(self, pt,eta,phi,e,charge,flavor):\n",
    "        self.pt=pt\n",
    "        self.eta=eta\n",
    "        self.phi=phi\n",
    "        self.e=e\n",
    "        self.charge=charge\n",
    "        self.flavor=flavor\n",
    "        self.p4 = ROOT.TLorentzVector()\n",
    "        self.p4.SetPtEtaPhiE(pt,eta,phi,e)\n",
    "        \n",
    "#2 Metodo per estrarla:    \n",
    "def get_particle(tree=mytree,var=\"muontracks\",index=0):\n",
    "    flav_dict={\"muontracks\":13,\"electrons\":11}\n",
    "    p= particle(getattr(tree,var+\"_pt\")[index],#getattr chiama dall'esterno un attributo con il nome preso come stringa\n",
    "                getattr(tree,var+\"_eta\")[index],\n",
    "                getattr(tree,var+\"_phi\")[index],\n",
    "                getattr(tree,var+\"_e\")[index],\n",
    "                getattr(tree,var+\"_charge\")[index] if hasattr(tree,var+\"_charge\") else 0,#nota: questo per i jet fallirà se non faccio qualcosa!\n",
    "                -1*getattr(tree,var+\"_charge\")[index]*(flav_dict[var]) if hasattr(tree,var+\"_charge\") else 0)\n",
    "    return p\n",
    "\n",
    "def get_collection(tree=mytree,var=\"muontracks\"):\n",
    "    particles=[get_particle(tree,var,i) for i in range(getattr(tree,var+\"_size\"))]\n",
    "    return particles"
   ]
  },
  {
   "cell_type": "code",
   "execution_count": 9,
   "id": "1b4abbf2",
   "metadata": {},
   "outputs": [
    {
     "data": {
      "image/png": "[encoded data removed]",
      "text/plain": [
       "<IPython.core.display.Image object>"
      ]
     },
     "metadata": {},
     "output_type": "display_data"
    }
   ],
   "source": [
    "mytree.Draw(\"muontracks_size\")\n",
    "c1.Draw()\n",
    "c1.SetLogy(0)"
   ]
  },
  {
   "cell_type": "code",
   "execution_count": 10,
   "id": "b41d3fe6",
   "metadata": {},
   "outputs": [
    {
     "data": {
      "image/png": "[encoded data removed]",
      "text/plain": [
       "<IPython.core.display.Image object>"
      ]
     },
     "metadata": {},
     "output_type": "display_data"
    }
   ],
   "source": [
    "are_os = lambda x,y: x.charge*y.charge<0 #Uso lambda per vedere se sono segno opposto (opposite sign)\n",
    "#equivalente a:\n",
    "def are_os_v2(x,y):\n",
    "    return x.charge*y.charge<0\n",
    "are_ss = lambda x,y: x.charge*y.charge>0 # o same sign (ss) -> quest'ultimo è ridondante in realtà!\n",
    "\n",
    "h_mass_mu.Reset(\"ICES\")\n",
    "\n",
    "h_mass_mu_ss=h_mass_mu.Clone(\"h_mass_mu_ss\")\n",
    "\n",
    "\n",
    "for i in range(mytree.GetEntries()):\n",
    "#for i in range(100):\n",
    "    mytree.GetEntry(i)\n",
    "    muons=get_collection(mytree,\"muontracks\")\n",
    "    electrons=get_collection(mytree,\"electrons\")\n",
    "    jets=get_collection(mytree,\"jets\")\n",
    "    for mi in range(len(muons)):\n",
    "        for mj in range(mi):\n",
    "            if(are_os(muons[mi],muons[mj])):\n",
    "                h_mass_mu.Fill((muons[mi].p4+muons[mj].p4).M())\n",
    "            else:\n",
    "                h_mass_mu_ss.Fill((muons[mi].p4+muons[mj].p4).M())\n",
    "            \n",
    "c1.Draw()\n",
    "h_mass_mu.Draw()"
   ]
  },
  {
   "cell_type": "code",
   "execution_count": 11,
   "id": "aff80620",
   "metadata": {
    "scrolled": false
   },
   "outputs": [
    {
     "data": {
      "image/png": "[encoded data removed]",
      "text/plain": [
       "<IPython.core.display.Image object>"
      ]
     },
     "metadata": {},
     "output_type": "display_data"
    }
   ],
   "source": [
    "c1.Draw()\n",
    "h_mass_mu_ss.SetLineColor(ROOT.kRed)\n",
    "h_mass_mu_ss.Draw(\"same\")\n",
    "c1.SetLogy()"
   ]
  },
  {
   "cell_type": "code",
   "execution_count": 12,
   "id": "efcae151",
   "metadata": {},
   "outputs": [
    {
     "data": {
      "text/plain": [
       "<cppyy.gbl.TFitResultPtr object at 0x5638c7592bc0>"
      ]
     },
     "execution_count": 12,
     "metadata": {},
     "output_type": "execute_result"
    },
    {
     "name": "stdout",
     "output_type": "stream",
     "text": [
      " FCN=93.3245 FROM MIGRAD    STATUS=CONVERGED      68 CALLS          69 TOTAL\n",
      "                     EDM=3.97392e-08    STRATEGY= 1      ERROR MATRIX ACCURATE \n",
      "  EXT PARAMETER                                   STEP         FIRST   \n",
      "  NO.   NAME      VALUE            ERROR          SIZE      DERIVATIVE \n",
      "   1  p0           2.67172e+03   1.65904e+02   4.74413e-01  -9.61526e-07\n",
      "   2  p1           1.15034e+01   6.32761e-01   1.81085e-03   2.17712e-04\n"
     ]
    }
   ],
   "source": [
    "m_min_fit=10\n",
    "bkg = ROOT.TF1(\"expo_bkg_1\",\"[0]/[1]*exp(-x/[1])\",m_min_fit,m_max)\n",
    "bkg.SetParameters(1000,20)\n",
    "h_mass_mu_ss.Fit(bkg,\"SR\")"
   ]
  },
  {
   "cell_type": "code",
   "execution_count": 13,
   "id": "8ef41667",
   "metadata": {},
   "outputs": [
    {
     "data": {
      "text/plain": [
       "<cppyy.gbl.TFitResultPtr object at 0x5638c77412b0>"
      ]
     },
     "execution_count": 13,
     "metadata": {},
     "output_type": "execute_result"
    },
    {
     "name": "stdout",
     "output_type": "stream",
     "text": [
      " FCN=57.3184 FROM MIGRAD    STATUS=CONVERGED     700 CALLS         701 TOTAL\n",
      "                     EDM=7.63623e-07    STRATEGY= 1      ERROR MATRIX ACCURATE \n",
      "  EXT PARAMETER                                   STEP         FIRST   \n",
      "  NO.   NAME      VALUE            ERROR          SIZE      DERIVATIVE \n",
      "   1  p0           8.30660e+04   1.86253e+04   1.00268e+01  -1.72524e-08\n",
      "   2  p1           1.79480e+02   4.82460e+01   1.21713e-02  -2.47416e-05\n",
      "   3  p2           2.65699e+01   6.01817e+00   8.20892e-04   1.55309e-03\n",
      "   4  p3          -2.20780e-01   4.67446e-02   1.17925e-05   2.54151e-01\n",
      "   5  p4           6.28440e-04   1.92784e-04   1.10056e-07   3.29694e+01\n"
     ]
    },
    {
     "data": {
      "image/png": "[encoded data removed]",
      "text/plain": [
       "<IPython.core.display.Image object>"
      ]
     },
     "metadata": {},
     "output_type": "display_data"
    }
   ],
   "source": [
    "#Forse si può migliorare un po'...\n",
    "m_min_fit= 10\n",
    "bkg2 = ROOT.TF1(\"expo_bkg_2\",\"[0]/[1]*exp(-([2]*x+[3]*x*x+[4]*x*x*x)/[1])\",m_min_fit,m_max)\n",
    "bkg2.SetParameters(1000,20,1,1,0.1)\n",
    "c1.Draw()\n",
    "h_mass_mu_ss.Fit(bkg2,\"SR\")"
   ]
  },
  {
   "cell_type": "code",
   "execution_count": 14,
   "id": "eadaa3e2",
   "metadata": {},
   "outputs": [
    {
     "name": "stdout",
     "output_type": "stream",
     "text": [
      "******************************************************************************\n",
      "*Tree    :events    : events                                                 *\n",
      "*Entries :    10000 : Total =         6072486 bytes  File  Size =    2146782 *\n",
      "*        :          : Tree compression factor =   2.82                       *\n",
      "******************************************************************************\n",
      "*Br    0 :muontracks_size : muontracks_size/I                                *\n",
      "*Entries :    10000 : Total  Size=      40701 bytes  File Size  =       6331 *\n",
      "*Baskets :        2 : Basket Size=      32000 bytes  Compression=   6.34     *\n",
      "*............................................................................*\n",
      "*Br    1 :muontracks_pt : vector<float>                                      *\n",
      "*Entries :    10000 : Total  Size=     175439 bytes  File Size  =      71181 *\n",
      "*Baskets :        7 : Basket Size=      32000 bytes  Compression=   2.46     *\n",
      "*............................................................................*\n",
      "*Br    2 :muontracks_eta : vector<float>                                     *\n",
      "*Entries :    10000 : Total  Size=     175450 bytes  File Size  =      72014 *\n",
      "*Baskets :        7 : Basket Size=      32000 bytes  Compression=   2.43     *\n",
      "*............................................................................*\n",
      "*Br    3 :muontracks_phi : vector<float>                                     *\n",
      "*Entries :    10000 : Total  Size=     175450 bytes  File Size  =      72249 *\n",
      "*Baskets :        7 : Basket Size=      32000 bytes  Compression=   2.42     *\n",
      "*............................................................................*\n",
      "*Br    4 :muontracks_e : vector<float>                                       *\n",
      "*Entries :    10000 : Total  Size=     175428 bytes  File Size  =      71293 *\n",
      "*Baskets :        7 : Basket Size=      32000 bytes  Compression=   2.45     *\n",
      "*............................................................................*\n",
      "*Br    5 :muontracks_charge : vector<float>                                  *\n",
      "*Entries :    10000 : Total  Size=     175483 bytes  File Size  =      38454 *\n",
      "*Baskets :        7 : Basket Size=      32000 bytes  Compression=   4.55     *\n",
      "*............................................................................*\n",
      "*Br    6 :muontracks_chi2 : vector<float>                                    *\n",
      "*Entries :    10000 : Total  Size=     175461 bytes  File Size  =      69474 *\n",
      "*Baskets :        7 : Basket Size=      32000 bytes  Compression=   2.52     *\n",
      "*............................................................................*\n",
      "*Br    7 :muontracks_mctruthmatch : vector<float>                            *\n",
      "*Entries :    10000 : Total  Size=     175549 bytes  File Size  =      38000 *\n",
      "*Baskets :        7 : Basket Size=      32000 bytes  Compression=   4.60     *\n",
      "*............................................................................*\n",
      "*Br    8 :muontracks_minDR : vector<float>                                   *\n",
      "*Entries :    10000 : Total  Size=     175472 bytes  File Size  =      63632 *\n",
      "*Baskets :        7 : Basket Size=      32000 bytes  Compression=   2.75     *\n",
      "*............................................................................*\n",
      "*Br    9 :muontracks_dB : vector<float>                                      *\n",
      "*Entries :    10000 : Total  Size=     175439 bytes  File Size  =      72224 *\n",
      "*Baskets :        7 : Basket Size=      32000 bytes  Compression=   2.42     *\n",
      "*............................................................................*\n",
      "*Br   10 :muontracks_dz : vector<float>                                      *\n",
      "*Entries :    10000 : Total  Size=     175439 bytes  File Size  =      72512 *\n",
      "*Baskets :        7 : Basket Size=      32000 bytes  Compression=   2.41     *\n",
      "*............................................................................*\n",
      "*Br   11 :muontracks_isoDeposits : vector<float>                             *\n",
      "*Entries :    10000 : Total  Size=     175538 bytes  File Size  =      59797 *\n",
      "*Baskets :        7 : Basket Size=      32000 bytes  Compression=   2.93     *\n",
      "*............................................................................*\n",
      "*Br   12 :muontracks_c : vector<float>                                       *\n",
      "*Entries :    10000 : Total  Size=     141075 bytes  File Size  =      15708 *\n",
      "*Baskets :        6 : Basket Size=      32000 bytes  Compression=   8.95     *\n",
      "*............................................................................*\n"
     ]
    }
   ],
   "source": [
    "mytree.Print(\"muontracks*\")"
   ]
  },
  {
   "cell_type": "code",
   "execution_count": 15,
   "id": "7abc3e90",
   "metadata": {},
   "outputs": [
    {
     "data": {
      "image/png": "[encoded data removed]",
      "text/plain": [
       "<IPython.core.display.Image object>"
      ]
     },
     "metadata": {},
     "output_type": "display_data"
    }
   ],
   "source": [
    "mytree.Draw(\"muontracks_mctruthmatch\")\n",
    "c1.Draw()"
   ]
  },
  {
   "cell_type": "code",
   "execution_count": 16,
   "id": "ef37edf3",
   "metadata": {},
   "outputs": [
    {
     "data": {
      "image/png": "[encoded data removed]",
      "text/plain": [
       "<IPython.core.display.Image object>"
      ]
     },
     "metadata": {},
     "output_type": "display_data"
    }
   ],
   "source": [
    "mytree.Draw(\"muontracks_chi2\",\"muontracks_mctruthmatch==0\")\n",
    "c1.Draw()"
   ]
  },
  {
   "cell_type": "code",
   "execution_count": 17,
   "id": "2e10515b",
   "metadata": {},
   "outputs": [
    {
     "data": {
      "image/png": "[encoded data removed]",
      "text/plain": [
       "<IPython.core.display.Image object>"
      ]
     },
     "metadata": {},
     "output_type": "display_data"
    }
   ],
   "source": [
    "mytree.Draw(\"muontracks_chi2\",\"muontracks_mctruthmatch>0\",\"e\")#sceglierà il range del primo\n",
    "mytree.Draw(\"muontracks_chi2\",\"muontracks_mctruthmatch==0\",\"same\")\n",
    "c1.Draw()"
   ]
  },
  {
   "cell_type": "code",
   "execution_count": 18,
   "id": "f18df266",
   "metadata": {},
   "outputs": [
    {
     "data": {
      "text/plain": [
       "87"
      ]
     },
     "execution_count": 18,
     "metadata": {},
     "output_type": "execute_result"
    }
   ],
   "source": [
    "mytree.Draw(\"muontracks_chi2\",\"muontracks_mctruthmatch==0 && muontracks_chi2>3.5\")"
   ]
  },
  {
   "cell_type": "code",
   "execution_count": 19,
   "id": "4e30c2ca",
   "metadata": {},
   "outputs": [
    {
     "name": "stdout",
     "output_type": "stream",
     "text": [
      " matched muons with chi2 > 3.5: 0 , unmatched ones:  86\n"
     ]
    },
    {
     "data": {
      "image/png": "[encoded data removed]",
      "text/plain": [
       "<IPython.core.display.Image object>"
      ]
     },
     "metadata": {},
     "output_type": "display_data"
    }
   ],
   "source": [
    "c1.Draw()\n",
    "a=mytree.GetEntries(\"muontracks_mctruthmatch>0 && muontracks_chi2>3.5\")\n",
    "b=mytree.GetEntries(\"muontracks_mctruthmatch==0 && muontracks_chi2>3.5\")\n",
    "print(\" matched muons with chi2 > 3.5:\",a,\", unmatched ones: \",b)"
   ]
  },
  {
   "cell_type": "code",
   "execution_count": 20,
   "id": "61f54a31",
   "metadata": {},
   "outputs": [
    {
     "data": {
      "text/plain": [
       "87"
      ]
     },
     "execution_count": 20,
     "metadata": {},
     "output_type": "execute_result"
    },
    {
     "name": "stdout",
     "output_type": "stream",
     "text": [
      "***********************************\n",
      "*    Row   * Instance * muontrack *\n",
      "***********************************\n",
      "*       80 *        0 *   1776374 *\n",
      "*      157 *        0 * 5.3124551 *\n",
      "*      284 *        1 * 4.4449358 *\n",
      "*      450 *        0 * 4.4170608 *\n",
      "*      611 *        1 *   4392569 *\n",
      "*      616 *        1 * 12.621521 *\n",
      "*      625 *        0 * 4.5948667 *\n",
      "*      632 *        0 * 3.5683927 *\n",
      "*      935 *        5 * 4.5617165 *\n",
      "*     1172 *        0 *   452.875 *\n",
      "*     1241 *        0 * 8.4193582 *\n",
      "*     1371 *        0 * 2654962.2 *\n",
      "*     1375 *        0 * 1374507.1 *\n",
      "*     1455 *        3 * 39.904914 *\n",
      "*     1471 *        0 * 2150757.5 *\n",
      "*     1651 *        0 * 36.041931 *\n",
      "*     1970 *        0 * 768.06298 *\n",
      "*     2159 *        0 * 53.306839 *\n",
      "*     2167 *        0 * 95.008186 *\n",
      "*     2196 *        0 * 126.83771 *\n",
      "*     2305 *        1 * 49.984314 *\n",
      "*     2360 *        0 * 5.0108642 *\n",
      "*     2394 *        3 * 36.681228 *\n",
      "*     2521 *        0 * 1844362.2 *\n",
      "*     2744 *        0 * 15.803024 *\n",
      "*     2989 *        1 * 86.792396 *\n",
      "*     3108 *        1 * 161.42662 *\n",
      "*     3148 *        3 * 57.665023 *\n",
      "*     3248 *        1 * 4.5649256 *\n",
      "*     3449 *        1 * 345.00030 *\n",
      "*     3528 *        1 * 14.824061 *\n",
      "*     3610 *        2 * 6.5011820 *\n",
      "*     3768 *        0 * 6.2065849 *\n",
      "*     3786 *        0 * 1502134.1 *\n",
      "*     3848 *        0 * 3.6394097 *\n",
      "*     3867 *        5 * 5.3585801 *\n",
      "*     4126 *        0 * 321.10842 *\n",
      "*     4513 *        0 * 502.91091 *\n",
      "*     4533 *        0 * 4.0683622 *\n",
      "*     4553 *        0 * 3.7422344 *\n",
      "*     4704 *        1 * 946.68518 *\n",
      "*     4754 *        0 * 157.73408 *\n",
      "*     4949 *        4 * 4.6761817 *\n",
      "*     5329 *        0 *   2063160 *\n",
      "*     5342 *        2 * 4.4139967 *\n",
      "*     6053 *        2 * 31.446884 *\n",
      "*     6168 *        3 * 41.633007 *\n",
      "*     6251 *        0 * 4.0936121 *\n",
      "*     6289 *        0 *   1837636 *\n",
      "*     6314 *        0 * 329.19979 *\n",
      "*     6382 *        0 * 1771254.5 *\n",
      "*     6611 *        1 * 708.40167 *\n",
      "*     6781 *        0 * 3814800.5 *\n",
      "*     7053 *        0 * 4.0286431 *\n",
      "*     7091 *        2 * 8.4779577 *\n",
      "*     7100 *        0 * 775429.37 *\n",
      "*     7164 *        2 * 25.231893 *\n",
      "*     7267 *        0 * 7155269.5 *\n",
      "*     7277 *        0 *   2621690 *\n",
      "*     7585 *        0 * 3.5260515 *\n",
      "*     7589 *        3 * 82.814621 *\n",
      "*     7682 *        2 * 3.8787748 *\n",
      "*     7867 *        1 * 9.7274599 *\n",
      "*     7891 *        0 * 47.912014 *\n",
      "*     8059 *        0 * 117.14474 *\n",
      "*     8074 *        2 * 1769150.2 *\n",
      "*     8076 *        4 * 12.836602 *\n",
      "*     8221 *        0 *   6178445 *\n",
      "*     8345 *        0 * 1854013.3 *\n",
      "*     8478 *        1 * 14.059734 *\n",
      "*     8587 *        0 * 55.221374 *\n",
      "*     8634 *        2 * 4.1485080 *\n",
      "*     8770 *        2 * 37.679157 *\n",
      "*     8770 *        3 * 21.696069 *\n",
      "*     8832 *        2 * 219.81230 *\n",
      "*     8892 *        0 * 38.621303 *\n",
      "*     8941 *        0 * 6.0575113 *\n",
      "*     9012 *        2 * 15.044715 *\n",
      "*     9178 *        0 * 41.176456 *\n",
      "*     9274 *        0 * 141415.65 *\n",
      "*     9279 *        1 * 3.5932865 *\n",
      "*     9294 *        0 * 1461677.1 *\n",
      "*     9395 *        3 * 4.0456733 *\n",
      "*     9594 *        0 * 2074952.1 *\n",
      "*     9722 *        1 * 176.45587 *\n",
      "*     9882 *        0 * 122.79679 *\n",
      "*     9966 *        4 * 23.550458 *\n",
      "***********************************\n",
      "==> 87 selected entries\n"
     ]
    },
    {
     "name": "stderr",
     "output_type": "stream",
     "text": [
      "Type <CR> to continue or q to quit ==> Type <CR> to continue or q to quit ==> Type <CR> to continue or q to quit ==> "
     ]
    }
   ],
   "source": [
    "mytree.Scan(\"muontracks_chi2\",\"muontracks_mctruthmatch==0 && muontracks_chi2>3.5\")"
   ]
  },
  {
   "cell_type": "code",
   "execution_count": 21,
   "id": "689c5245",
   "metadata": {},
   "outputs": [
    {
     "data": {
      "text/plain": [
       "4"
      ]
     },
     "execution_count": 21,
     "metadata": {},
     "output_type": "execute_result"
    }
   ],
   "source": [
    "mytree.Draw(\"muontracks_chi2\",\"muontracks_mctruthmatch==0 && muontracks_chi2>3.4 &&  muontracks_chi2<3.6\")"
   ]
  },
  {
   "cell_type": "code",
   "execution_count": 33,
   "id": "9a4abcd1",
   "metadata": {},
   "outputs": [
    {
     "name": "stdout",
     "output_type": "stream",
     "text": [
      " FCN=125.874 FROM MIGRAD    STATUS=CONVERGED    1821 CALLS        1822 TOTAL\n",
      "                     EDM=1.11651e-06    STRATEGY= 1      ERROR MATRIX ACCURATE \n",
      "  EXT PARAMETER                                   STEP         FIRST   \n",
      "  NO.   NAME      VALUE            ERROR          SIZE      DERIVATIVE \n",
      "   1  p0           1.66734e+05   1.83997e+04   2.09368e+01  -4.17471e-08\n",
      "   2  p1           1.66643e+02   1.41698e+01   9.76955e-03  -2.31040e-04\n",
      "   3  p2           2.22224e+03   6.76859e+01   3.58940e-01  -1.03848e-05\n",
      "   4  p3           9.07507e+01   8.02250e-02   4.34699e-04  -8.70233e-03\n",
      "   5  p4           3.05627e+00   1.02283e-01   5.28991e-04  -1.09488e-02\n",
      "   6  p5           3.88406e+01   1.99052e+00   5.91700e-04   5.19598e-03\n",
      "   7  p6          -6.31266e-01   3.05884e-02   7.47300e-06   4.32481e-01\n",
      "   8  p7           3.24758e-03   1.63824e-04   7.95507e-08   3.59200e+01\n"
     ]
    },
    {
     "data": {
      "image/png": "[encoded data removed]",
      "text/plain": [
       "<IPython.core.display.Image object>"
      ]
     },
     "metadata": {},
     "output_type": "display_data"
    }
   ],
   "source": [
    "sigbkg = ROOT.TF1(\"sig_bkg\",\"[0]/[1]*exp(-([5]*x+[6]*x*x+[7]*x*x*x)/[1])+[2]*1/([4]*TMath::Sqrt(2*TMath::Pi()))*exp(-(x-[3])*(x-[3])/(TMath::Sqrt(2)*[4]*[4]))\",m_min_fit,m_max)\n",
    "sigbkg.SetParameters(1000,20,1000,90,10,1,1,0.1)\n",
    "c1.Draw()\n",
    "h_mass_mu.Fit(sigbkg,\"SR\")\n",
    "c1.SetLogy(1)"
   ]
  },
  {
   "cell_type": "code",
   "execution_count": null,
   "id": "69e8bae0",
   "metadata": {},
   "outputs": [],
   "source": [
    "minx=87.5\n",
    "maxx=92.5\n",
    "print(sigbkg.Integral(minx,maxx))\n",
    "sigbkg.GetParameter(0)\n",
    "h_mass_mu.Integral(h_mass_mu.FindBin(minx),h_mass_mu.FindBin(maxx))\n",
    "h_mass_mu.GetBinWidth(1)\n",
    "print(h_mass_mu.Integral(h_mass_mu.FindBin(minx),h_mass_mu.FindBin(maxx))*h_mass_mu.GetBinWidth(1))"
   ]
  },
  {
   "cell_type": "markdown",
   "id": "78d85c43",
   "metadata": {},
   "source": [
    "# Esercizio #1 \n",
    "\n",
    "Proviamo a stimare il numero di eventi di fondo sotto il picco con il fit in due modi diversi : fit s+b nella regione \"giusta\" con segnale, fit b nella regione solo fondo.\n",
    "\n"
   ]
  },
  {
   "cell_type": "code",
   "execution_count": null,
   "id": "c73d33c6",
   "metadata": {},
   "outputs": [],
   "source": [
    "#Esempio\n",
    "#fbkgonly = ROOT.TF1(\"fbkgonly\",\"[0]/[1]*exp(-([5]*x+[6]*x*x+[7]*x*x*x)/[1])+[2]\")\n",
    "#una volta con i parametri presi da un fit, una volta coi parametri presi da un altro \n",
    "#fbkgonly.SetParameters()\n",
    "#fbkgonly.Integral()\n",
    "#e confrontiamo i valori degli integral"
   ]
  },
  {
   "cell_type": "markdown",
   "id": "23506d72",
   "metadata": {},
   "source": [
    "# Esercizio #3\n",
    "\n",
    "\n",
    "Definita la nostra selezione (es. massa >40 GeV) proviamo a studiare le altre features della muontrack:\n",
    "\n",
    "chi2 -> chi2 del fit alla traccia\n",
    "dz -> parametro di impatto lungo Z\n",
    "dB -> parametro di impatto nel piano xy\n",
    "isodeposits -> depositi calorimetrici intorno al muone"
   ]
  },
  {
   "cell_type": "code",
   "execution_count": 12,
   "id": "e7ef0cef",
   "metadata": {
    "scrolled": false
   },
   "outputs": [
    {
     "data": {
      "text/plain": [
       "16"
      ]
     },
     "execution_count": 12,
     "metadata": {},
     "output_type": "execute_result"
    },
    {
     "name": "stdout",
     "output_type": "stream",
     "text": [
      "***********************************************************************\n",
      "*    Row   * Instance * muontrack * muontrack * muontrack * muontrack *\n",
      "***********************************************************************\n",
      "*        0 *        0 * 1.0335342 * 0.0252492 * 0.0002856 * 1.0729610 *\n",
      "*        0 *        1 * 1.0741999 * 0.0242608 * 0.0031903 * 2.9965186 *\n",
      "*        1 *        0 *           *           *           *           *\n",
      "*        2 *        0 *           *           *           *           *\n",
      "*        3 *        0 * 0.7568610 * 0.0140937 * 0.0177467 *         0 *\n",
      "*        3 *        1 * 0.0214010 * 12.813911 * 0.0310324 *         0 *\n",
      "*        4 *        0 *           *           *           *           *\n",
      "*        5 *        0 * 0.6926183 * 5.362e-05 * 2.051e-05 * 0.6069132 *\n",
      "*        6 *        0 * 1.0029804 * 0.0005141 * 1.299e-05 *         0 *\n",
      "*        6 *        1 * 0.4243881 * 0.0052267 * 0.0001941 * 1.2594964 *\n",
      "*        7 *        0 * 1.0884974 * 2.104e-05 * 7.020e-06 *         0 *\n",
      "*        8 *        0 * 0.8126785 * 0.0014560 * 0.0008826 *         0 *\n",
      "*        8 *        1 * 1.0747882 * 0.0026772 * 0.0009806 *         0 *\n",
      "*        9 *        0 * 1.5969889 * 0.0024863 * 0.0006455 * 4.6017713 *\n",
      "*        9 *        1 * 1.0764035 * 0.0337559 * 0.0293779 * 2.1718206 *\n",
      "*        9 *        2 * 1.2282214 * 2.4580097 * 0.0150685 * 4.3621826 *\n",
      "***********************************************************************\n"
     ]
    }
   ],
   "source": [
    "mytree.Scan(\"muontracks_chi2:muontracks_dz:muontracks_dB:muontracks_isoDeposits\",\"\",\"\",10)"
   ]
  },
  {
   "cell_type": "markdown",
   "id": "494d3aaa",
   "metadata": {},
   "source": [
    "# Esercizio #4:\n",
    "\n",
    "Proviamo su questo campione \"mixed\" di dati"
   ]
  },
  {
   "cell_type": "code",
   "execution_count": 13,
   "id": "12b63cf4",
   "metadata": {},
   "outputs": [],
   "source": [
    "dataFile= ROOT.TFile(\"Data.root\")\n",
    "#Nota: io l'ho scaricato in locale - potete fare lo stesso o usare il wget as you prefer :)"
   ]
  },
  {
   "cell_type": "code",
   "execution_count": 14,
   "id": "f3be82b9",
   "metadata": {},
   "outputs": [
    {
     "data": {
      "text/plain": [
       "273120"
      ]
     },
     "execution_count": 14,
     "metadata": {},
     "output_type": "execute_result"
    }
   ],
   "source": [
    "datatree= dataFile.trees.events\n",
    "datatree.GetEntries()"
   ]
  },
  {
   "cell_type": "code",
   "execution_count": 15,
   "id": "1158ccad",
   "metadata": {},
   "outputs": [],
   "source": [
    "h_data_mass_mu_os=ROOT.TH1F(\"h_data_mu_os\",\"Mass of muon pair, data\",1500,m_min,m_max)\n",
    "h_data_mass_mu_ss=h_data_mass_mu_os.Clone(\"h_data_mu_ss\")\n",
    "\n",
    "for i in range(datatree.GetEntries()):\n",
    "#for i in range(100):\n",
    "    datatree.GetEntry(i)\n",
    "    muons=get_collection(datatree,\"muontracks\")\n",
    "    electrons=get_collection(datatree,\"electrons\")\n",
    "    jets=get_collection(datatree,\"jets\")\n",
    "   \n",
    "    for mi in range(len(muons)):\n",
    "        for mj in range(mi):\n",
    "            if(are_os(muons[mi],muons[mj])):\n",
    "                h_data_mass_mu_os.Fill((muons[mi].p4+muons[mj].p4).M())\n",
    "            else:\n",
    "                h_data_mass_mu_ss.Fill((muons[mi].p4+muons[mj].p4).M())\n"
   ]
  },
  {
   "cell_type": "code",
   "execution_count": 16,
   "id": "a7c3f913",
   "metadata": {},
   "outputs": [
    {
     "data": {
      "image/png": "[encoded data removed]",
      "text/plain": [
       "<IPython.core.display.Image object>"
      ]
     },
     "metadata": {},
     "output_type": "display_data"
    }
   ],
   "source": [
    "c1.Draw()\n",
    "h_data_mass_mu_os.Draw()\n",
    "h_data_mass_mu_ss.SetLineColor(ROOT.kRed)\n",
    "h_data_mass_mu_ss.Draw(\"same\")\n",
    "h_data_mass_mu_os.GetXaxis().SetRangeUser(0,140)\n",
    "#h_data_mass_mu_os.Rebin(2)\n",
    "#h_data_mass_mu_ss.Rebin(2)\n",
    "c1.Update()\n",
    "\n"
   ]
  },
  {
   "cell_type": "code",
   "execution_count": null,
   "id": "66ff406c",
   "metadata": {},
   "outputs": [],
   "source": []
  },
  {
   "cell_type": "code",
   "execution_count": null,
   "id": "42863362",
   "metadata": {},
   "outputs": [],
   "source": []
  }
 ],
 "metadata": {
  "kernelspec": {
   "display_name": "Python 3 (ipykernel)",
   "language": "python",
   "name": "python3"
  },
  "language_info": {
   "codemirror_mode": {
    "name": "ipython",
    "version": 3
   },
   "file_extension": ".py",
   "mimetype": "text/x-python",
   "name": "python",
   "nbconvert_exporter": "python",
   "pygments_lexer": "ipython3",
   "version": "3.10.4"
  }
 },
 "nbformat": 4,
 "nbformat_minor": 5
}
